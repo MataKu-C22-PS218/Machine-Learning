{
  "nbformat": 4,
  "nbformat_minor": 0,
  "metadata": {
    "colab": {
      "name": "Object_Classification_Model_1",
      "provenance": [],
      "collapsed_sections": []
    },
    "kernelspec": {
      "name": "python3",
      "display_name": "Python 3"
    },
    "language_info": {
      "name": "python"
    },
    "accelerator": "GPU"
  },
  "cells": [
    {
      "cell_type": "markdown",
      "source": [
        "# Import Library"
      ],
      "metadata": {
        "id": "FE7a7aHGv4ZJ"
      }
    },
    {
      "cell_type": "code",
      "execution_count": 1,
      "metadata": {
        "id": "qn6FPEPbTQhZ"
      },
      "outputs": [],
      "source": [
        "import os\n",
        "import zipfile\n",
        "import tensorflow as tf\n",
        "import matplotlib.pyplot as plt\n",
        "from tensorflow.keras.preprocessing.image import ImageDataGenerator"
      ]
    },
    {
      "cell_type": "markdown",
      "source": [
        "# Downloading Dataset"
      ],
      "metadata": {
        "id": "TkliawOev9-L"
      }
    },
    {
      "cell_type": "code",
      "source": [
        "! pip install -U -q PyDrive\n",
        "from pydrive.auth import GoogleAuth\n",
        "from pydrive.drive import GoogleDrive\n",
        "from google.colab import auth\n",
        "from oauth2client.client import GoogleCredentials"
      ],
      "metadata": {
        "id": "3eeclKzPUqGT"
      },
      "execution_count": 2,
      "outputs": []
    },
    {
      "cell_type": "code",
      "source": [
        "auth.authenticate_user()\n",
        "gauth = GoogleAuth()\n",
        "gauth.credentials = GoogleCredentials.get_application_default()\n",
        "drive = GoogleDrive(gauth)"
      ],
      "metadata": {
        "id": "iyz1TphoR7EN"
      },
      "execution_count": 3,
      "outputs": []
    },
    {
      "cell_type": "code",
      "source": [
        "url = 'https://drive.google.com/file/d/1aX4pxw4KsGbhz3ZP9STm0xfN4HyuN8cy/view?usp=sharing'\n",
        "# Split link to get ID\n",
        "split1 = url.split('d/')[1]\n",
        "id = split1.split('/view?')[0]\n",
        "print(id)"
      ],
      "metadata": {
        "colab": {
          "base_uri": "https://localhost:8080/"
        },
        "id": "zlfHKUmESOcv",
        "outputId": "7728159e-c644-4d07-f6a1-2769b274930a"
      },
      "execution_count": 4,
      "outputs": [
        {
          "output_type": "stream",
          "name": "stdout",
          "text": [
            "1aX4pxw4KsGbhz3ZP9STm0xfN4HyuN8cy\n"
          ]
        }
      ]
    },
    {
      "cell_type": "code",
      "source": [
        "# Downloading file\n",
        "file = drive.CreateFile({'id':id})\n",
        "file.GetContentFile('Sidewalk_Object_Dataset.zip')"
      ],
      "metadata": {
        "id": "HuWjoA1hTQHi"
      },
      "execution_count": 5,
      "outputs": []
    },
    {
      "cell_type": "code",
      "source": [
        "fzip = 'Sidewalk_Object_Dataset.zip'\n",
        "zip_ref = zipfile.ZipFile(fzip, 'r')\n",
        "zip_ref.extractall('./SidewalkDataset')\n",
        "zip_ref.close()"
      ],
      "metadata": {
        "id": "qn5BleomT3qJ"
      },
      "execution_count": 6,
      "outputs": []
    },
    {
      "cell_type": "markdown",
      "source": [
        "# Image Augmentation"
      ],
      "metadata": {
        "id": "9qsFuYWmwY3a"
      }
    },
    {
      "cell_type": "code",
      "source": [
        "train_dir = '/content/SidewalkDataset/train'\n",
        "val_dir = '/content/SidewalkDataset/val'"
      ],
      "metadata": {
        "id": "esVe6fI6VQCv"
      },
      "execution_count": 7,
      "outputs": []
    },
    {
      "cell_type": "code",
      "source": [
        "def train_val_generators(training_dir, validation_dir):\n",
        "  train_datagen = ImageDataGenerator(\n",
        "      rescale=1/255,\n",
        "      rotation_range=40,\n",
        "      width_shift_range=0.2,\n",
        "      height_shift_range=0.2,\n",
        "      shear_range=0.2,\n",
        "      zoom_range=0.2,\n",
        "      horizontal_flip=True,\n",
        "      fill_mode='nearest'\n",
        "  )\n",
        "\n",
        "  train_generator = train_datagen.flow_from_directory(\n",
        "      directory=train_dir,\n",
        "      batch_size=64,\n",
        "      class_mode='categorical',\n",
        "      target_size=(150, 150)\n",
        "  )\n",
        "  \n",
        "  val_datagen = ImageDataGenerator(rescale=1/255)\n",
        "\n",
        "  val_generator = val_datagen.flow_from_directory(\n",
        "      directory=val_dir,\n",
        "      batch_size=64,\n",
        "      class_mode='categorical',\n",
        "      target_size=(150, 150)\n",
        "  )\n",
        "\n",
        "  return train_generator, val_generator"
      ],
      "metadata": {
        "id": "pycPjkB2e6uS"
      },
      "execution_count": 8,
      "outputs": []
    },
    {
      "cell_type": "code",
      "source": [
        "train_generator, validation_generator = train_val_generators(train_dir, val_dir)"
      ],
      "metadata": {
        "colab": {
          "base_uri": "https://localhost:8080/"
        },
        "id": "k86CbSJpg_tJ",
        "outputId": "d11c7913-ed19-422e-f338-6d1173f8dbac"
      },
      "execution_count": 9,
      "outputs": [
        {
          "output_type": "stream",
          "name": "stdout",
          "text": [
            "Found 2254 images belonging to 9 classes.\n",
            "Found 466 images belonging to 9 classes.\n"
          ]
        }
      ]
    },
    {
      "cell_type": "code",
      "source": [
        "train_generator.class_indices"
      ],
      "metadata": {
        "colab": {
          "base_uri": "https://localhost:8080/"
        },
        "id": "PhbgoYUk3IKX",
        "outputId": "5d46e370-ee24-4d04-9358-c5d6769db452"
      },
      "execution_count": 10,
      "outputs": [
        {
          "output_type": "execute_result",
          "data": {
            "text/plain": [
              "{'Bench': 0,\n",
              " 'Bicycle': 1,\n",
              " 'Car': 2,\n",
              " 'Flowerpot': 3,\n",
              " 'Motorcycle': 4,\n",
              " 'Person': 5,\n",
              " 'Pole': 6,\n",
              " 'Potholes': 7,\n",
              " 'Truck': 8}"
            ]
          },
          "metadata": {},
          "execution_count": 10
        }
      ]
    },
    {
      "cell_type": "code",
      "source": [
        "validation_generator.class_indices"
      ],
      "metadata": {
        "colab": {
          "base_uri": "https://localhost:8080/"
        },
        "id": "N6OWJrs83NHi",
        "outputId": "393ed3f4-bf80-43b4-81bc-6edd7dde15e8"
      },
      "execution_count": 11,
      "outputs": [
        {
          "output_type": "execute_result",
          "data": {
            "text/plain": [
              "{'Bench': 0,\n",
              " 'Bicycle': 1,\n",
              " 'Car': 2,\n",
              " 'Flowerpot': 3,\n",
              " 'Motorcycle': 4,\n",
              " 'Person': 5,\n",
              " 'Pole': 6,\n",
              " 'Potholes': 7,\n",
              " 'Truck': 8}"
            ]
          },
          "metadata": {},
          "execution_count": 11
        }
      ]
    },
    {
      "cell_type": "code",
      "source": [
        "class_names = []\n",
        "for category in train_generator.class_indices:\n",
        "  class_names.append(category)"
      ],
      "metadata": {
        "id": "UW0Mrop0nH5O"
      },
      "execution_count": 18,
      "outputs": []
    },
    {
      "cell_type": "markdown",
      "source": [
        "# Building Model Architecture"
      ],
      "metadata": {
        "id": "u8LyU_5KxBEl"
      }
    },
    {
      "cell_type": "code",
      "source": [
        "model = tf.keras.models.Sequential([\n",
        "    tf.keras.layers.Conv2D(64, (3,3), activation='relu', input_shape=(150,150,3)),\n",
        "    tf.keras.layers.MaxPooling2D(2,2),\n",
        "    tf.keras.layers.Conv2D(64, (3,3), activation='relu'),\n",
        "    tf.keras.layers.MaxPooling2D(2,2),\n",
        "    tf.keras.layers.Conv2D(64, (3,3), activation='relu'),\n",
        "    tf.keras.layers.MaxPooling2D(2,2),\n",
        "    tf.keras.layers.Conv2D(32, (3,3), activation='relu'),\n",
        "    tf.keras.layers.MaxPooling2D(2,2),\n",
        "    tf.keras.layers.Flatten(),\n",
        "    tf.keras.layers.Dense(512, activation='relu'),\n",
        "    tf.keras.layers.Dense(256, activation='relu'),\n",
        "    tf.keras.layers.Dense(9, activation='softmax')\n",
        "])"
      ],
      "metadata": {
        "id": "3yUE8SpoxEK1"
      },
      "execution_count": 12,
      "outputs": []
    },
    {
      "cell_type": "code",
      "source": [
        "model.compile(\n",
        "    optimizer='RMSprop',\n",
        "    loss='categorical_crossentropy',\n",
        "    metrics=['accuracy']\n",
        ")"
      ],
      "metadata": {
        "id": "yR1UXemgXFB0"
      },
      "execution_count": 13,
      "outputs": []
    },
    {
      "cell_type": "code",
      "source": [
        "history = model.fit(\n",
        "    train_generator,\n",
        "    epochs = 20,\n",
        "    validation_data = validation_generator,\n",
        "    verbose = 1,\n",
        ")"
      ],
      "metadata": {
        "colab": {
          "base_uri": "https://localhost:8080/"
        },
        "id": "VM0TMnAzXKZZ",
        "outputId": "b417bf7f-7eb2-4ac0-fc72-e2bb9f6992dc"
      },
      "execution_count": 14,
      "outputs": [
        {
          "output_type": "stream",
          "name": "stdout",
          "text": [
            "Epoch 1/20\n",
            " 8/36 [=====>........................] - ETA: 49s - loss: 2.2705 - accuracy: 0.1074"
          ]
        },
        {
          "output_type": "stream",
          "name": "stderr",
          "text": [
            "/usr/local/lib/python3.7/dist-packages/PIL/Image.py:960: UserWarning: Palette images with Transparency expressed in bytes should be converted to RGBA images\n",
            "  \"Palette images with Transparency expressed in bytes should be \"\n"
          ]
        },
        {
          "output_type": "stream",
          "name": "stdout",
          "text": [
            "36/36 [==============================] - 80s 2s/step - loss: 2.2137 - accuracy: 0.1508 - val_loss: 2.1432 - val_accuracy: 0.1352\n",
            "Epoch 2/20\n",
            "36/36 [==============================] - 67s 2s/step - loss: 2.0655 - accuracy: 0.2360 - val_loss: 1.9167 - val_accuracy: 0.3112\n",
            "Epoch 3/20\n",
            "36/36 [==============================] - 67s 2s/step - loss: 1.9071 - accuracy: 0.3212 - val_loss: 1.6769 - val_accuracy: 0.4142\n",
            "Epoch 4/20\n",
            "36/36 [==============================] - 88s 2s/step - loss: 1.7517 - accuracy: 0.3682 - val_loss: 1.4849 - val_accuracy: 0.4828\n",
            "Epoch 5/20\n",
            "36/36 [==============================] - 72s 2s/step - loss: 1.6281 - accuracy: 0.4184 - val_loss: 1.4010 - val_accuracy: 0.5043\n",
            "Epoch 6/20\n",
            "36/36 [==============================] - 79s 2s/step - loss: 1.5571 - accuracy: 0.4410 - val_loss: 1.5067 - val_accuracy: 0.4549\n",
            "Epoch 7/20\n",
            "36/36 [==============================] - 67s 2s/step - loss: 1.4412 - accuracy: 0.4942 - val_loss: 1.4594 - val_accuracy: 0.5258\n",
            "Epoch 8/20\n",
            "36/36 [==============================] - 73s 2s/step - loss: 1.3799 - accuracy: 0.5169 - val_loss: 1.5057 - val_accuracy: 0.4571\n",
            "Epoch 9/20\n",
            "36/36 [==============================] - 80s 2s/step - loss: 1.3102 - accuracy: 0.5297 - val_loss: 1.3293 - val_accuracy: 0.5429\n",
            "Epoch 10/20\n",
            "36/36 [==============================] - 72s 2s/step - loss: 1.2379 - accuracy: 0.5639 - val_loss: 1.1163 - val_accuracy: 0.6245\n",
            "Epoch 11/20\n",
            "36/36 [==============================] - 70s 2s/step - loss: 1.2634 - accuracy: 0.5590 - val_loss: 1.1770 - val_accuracy: 0.5880\n",
            "Epoch 12/20\n",
            "36/36 [==============================] - 66s 2s/step - loss: 1.2196 - accuracy: 0.5750 - val_loss: 1.2057 - val_accuracy: 0.5730\n",
            "Epoch 13/20\n",
            "36/36 [==============================] - 70s 2s/step - loss: 1.1500 - accuracy: 0.5923 - val_loss: 0.9510 - val_accuracy: 0.6803\n",
            "Epoch 14/20\n",
            "36/36 [==============================] - 66s 2s/step - loss: 1.0903 - accuracy: 0.6162 - val_loss: 1.0590 - val_accuracy: 0.6159\n",
            "Epoch 15/20\n",
            "36/36 [==============================] - 67s 2s/step - loss: 1.0509 - accuracy: 0.6304 - val_loss: 1.5859 - val_accuracy: 0.5215\n",
            "Epoch 16/20\n",
            "36/36 [==============================] - 66s 2s/step - loss: 1.0698 - accuracy: 0.6278 - val_loss: 0.9750 - val_accuracy: 0.6567\n",
            "Epoch 17/20\n",
            "36/36 [==============================] - 65s 2s/step - loss: 1.0358 - accuracy: 0.6322 - val_loss: 0.9411 - val_accuracy: 0.6803\n",
            "Epoch 18/20\n",
            "36/36 [==============================] - 66s 2s/step - loss: 0.9872 - accuracy: 0.6619 - val_loss: 0.9150 - val_accuracy: 0.6631\n",
            "Epoch 19/20\n",
            "36/36 [==============================] - 66s 2s/step - loss: 0.9222 - accuracy: 0.6810 - val_loss: 1.3474 - val_accuracy: 0.6116\n",
            "Epoch 20/20\n",
            "36/36 [==============================] - 66s 2s/step - loss: 0.9272 - accuracy: 0.6854 - val_loss: 0.9885 - val_accuracy: 0.6674\n"
          ]
        }
      ]
    },
    {
      "cell_type": "markdown",
      "source": [
        "# Plotting Accuracy and Loss"
      ],
      "metadata": {
        "id": "BKOKLyA3eTLU"
      }
    },
    {
      "cell_type": "code",
      "source": [
        "acc = history.history['accuracy']\n",
        "val_acc = history.history['val_accuracy']\n",
        "loss = history.history['loss']\n",
        "val_loss = history.history['val_loss']\n",
        "epochs=range(len(acc))\n",
        "\n",
        "# Accuracy\n",
        "plt.plot(epochs, acc, 'r', label=\"Training Accuracy\")\n",
        "plt.plot(epochs, val_acc, 'b', label=\"Validation Accuracy\")\n",
        "plt.title('Training and Validation Accuracy')\n",
        "plt.legend()\n",
        "plt.figure()\n",
        "\n",
        "# Loss\n",
        "plt.plot(epochs, loss, 'r', label=\"Training Loss\")\n",
        "plt.plot(epochs, val_loss, 'b', label=\"Validation Loss\")\n",
        "plt.title('Training and Validation Loss')\n",
        "plt.legend()\n",
        "\n",
        "plt.show()"
      ],
      "metadata": {
        "colab": {
          "base_uri": "https://localhost:8080/",
          "height": 545
        },
        "id": "Y_FBISNUeLCc",
        "outputId": "16433d3f-5a70-4322-82e8-d08763026bfc"
      },
      "execution_count": 15,
      "outputs": [
        {
          "output_type": "display_data",
          "data": {
            "text/plain": [
              "<Figure size 432x288 with 1 Axes>"
            ],
            "image/png": "[encoded data removed]"
          },
          "metadata": {
            "needs_background": "light"
          }
        },
        {
          "output_type": "display_data",
          "data": {
            "text/plain": [
              "<Figure size 432x288 with 1 Axes>"
            ],
            "image/png": "[encoded data removed]"
          },
          "metadata": {
            "needs_background": "light"
          }
        }
      ]
    },
    {
      "cell_type": "markdown",
      "source": [
        "# Export Model"
      ],
      "metadata": {
        "id": "S2XB-avLiG1T"
      }
    },
    {
      "cell_type": "code",
      "source": [
        "export_dir = 'saved_model/1'\n",
        "tf.saved_model.save(model, export_dir=export_dir)\n"
      ],
      "metadata": {
        "colab": {
          "base_uri": "https://localhost:8080/"
        },
        "id": "KkSYDiKOiGci",
        "outputId": "d4ef7a11-1390-4243-c101-0d0a7a34269a"
      },
      "execution_count": 16,
      "outputs": [
        {
          "output_type": "stream",
          "name": "stdout",
          "text": [
            "INFO:tensorflow:Assets written to: saved_model/1/assets\n"
          ]
        }
      ]
    },
    {
      "cell_type": "code",
      "source": [
        "# Convert model\n",
        "converter = tf.lite.TFLiteConverter.from_saved_model(export_dir)\n",
        "converter.optimizations = [tf.lite.Optimize.OPTIMIZE_FOR_SIZE]\n",
        "tflite_model = converter.convert()\n",
        "\n",
        "# Write TFLite model\n",
        "tflite_model_file = \"sidewalk_obj_v1.tflite\"\n",
        "\n",
        "with open(tflite_model_file, \"wb\") as f:\n",
        "    f.write(tflite_model)\n",
        "\n",
        "with open('sidewalk_obj_v1.txt', 'w') as f:\n",
        "    f.write('\\n'.join(class_names))"
      ],
      "metadata": {
        "colab": {
          "base_uri": "https://localhost:8080/"
        },
        "id": "OkfXDo4plcZV",
        "outputId": "de792470-e551-457a-da04-d1f3c0da30b2"
      },
      "execution_count": 19,
      "outputs": [
        {
          "output_type": "stream",
          "name": "stderr",
          "text": [
            "WARNING:absl:Optimization option OPTIMIZE_FOR_SIZE is deprecated, please use optimizations=[Optimize.DEFAULT] instead.\n",
            "WARNING:absl:Optimization option OPTIMIZE_FOR_SIZE is deprecated, please use optimizations=[Optimize.DEFAULT] instead.\n",
            "WARNING:absl:Optimization option OPTIMIZE_FOR_SIZE is deprecated, please use optimizations=[Optimize.DEFAULT] instead.\n",
            "WARNING:absl:Buffer deduplication procedure will be skipped when flatbuffer library is not properly loaded\n"
          ]
        }
      ]
    },
    {
      "cell_type": "code",
      "source": [
        "from google.colab import files\n",
        "try:\n",
        "    files.download('sidewalk_obj_v1.tflite')\n",
        "    files.download('sidewalk_obj_v1.txt')\n",
        "except:\n",
        "    pass"
      ],
      "metadata": {
        "colab": {
          "base_uri": "https://localhost:8080/",
          "height": 17
        },
        "id": "qWkoVL2bnQt-",
        "outputId": "991d5686-d1af-4048-a29c-732cfc0ef638"
      },
      "execution_count": 20,
      "outputs": [
        {
          "output_type": "display_data",
          "data": {
            "text/plain": [
              "<IPython.core.display.Javascript object>"
            ],
            "application/javascript": [
              "\n",
              "    async function download(id, filename, size) {\n",
              "      if (!google.colab.kernel.accessAllowed) {\n",
              "        return;\n",
              "      }\n",
              "      const div = document.createElement('div');\n",
              "      const label = document.createElement('label');\n",
              "      label.textContent = `Downloading \"${filename}\": `;\n",
              "      div.appendChild(label);\n",
              "      const progress = document.createElement('progress');\n",
              "      progress.max = size;\n",
              "      div.appendChild(progress);\n",
              "      document.body.appendChild(div);\n",
              "\n",
              "      const buffers = [];\n",
              "      let downloaded = 0;\n",
              "\n",
              "      const channel = await google.colab.kernel.comms.open(id);\n",
              "      // Send a message to notify the kernel that we're ready.\n",
              "      channel.send({})\n",
              "\n",
              "      for await (const message of channel.messages) {\n",
              "        // Send a message to notify the kernel that we're ready.\n",
              "        channel.send({})\n",
              "        if (message.buffers) {\n",
              "          for (const buffer of message.buffers) {\n",
              "            buffers.push(buffer);\n",
              "            downloaded += buffer.byteLength;\n",
              "            progress.value = downloaded;\n",
              "          }\n",
              "        }\n",
              "      }\n",
              "      const blob = new Blob(buffers, {type: 'application/binary'});\n",
              "      const a = document.createElement('a');\n",
              "      a.href = window.URL.createObjectURL(blob);\n",
              "      a.download = filename;\n",
              "      div.appendChild(a);\n",
              "      a.click();\n",
              "      div.remove();\n",
              "    }\n",
              "  "
            ]
          },
          "metadata": {}
        },
        {
          "output_type": "display_data",
          "data": {
            "text/plain": [
              "<IPython.core.display.Javascript object>"
            ],
            "application/javascript": [
              "download(\"download_a0d4a775-b5bb-4865-bd95-a683f6be8e69\", \"sidewalk_obj_v1.tflite\", 1043760)"
            ]
          },
          "metadata": {}
        },
        {
          "output_type": "display_data",
          "data": {
            "text/plain": [
              "<IPython.core.display.Javascript object>"
            ],
            "application/javascript": [
              "\n",
              "    async function download(id, filename, size) {\n",
              "      if (!google.colab.kernel.accessAllowed) {\n",
              "        return;\n",
              "      }\n",
              "      const div = document.createElement('div');\n",
              "      const label = document.createElement('label');\n",
              "      label.textContent = `Downloading \"${filename}\": `;\n",
              "      div.appendChild(label);\n",
              "      const progress = document.createElement('progress');\n",
              "      progress.max = size;\n",
              "      div.appendChild(progress);\n",
              "      document.body.appendChild(div);\n",
              "\n",
              "      const buffers = [];\n",
              "      let downloaded = 0;\n",
              "\n",
              "      const channel = await google.colab.kernel.comms.open(id);\n",
              "      // Send a message to notify the kernel that we're ready.\n",
              "      channel.send({})\n",
              "\n",
              "      for await (const message of channel.messages) {\n",
              "        // Send a message to notify the kernel that we're ready.\n",
              "        channel.send({})\n",
              "        if (message.buffers) {\n",
              "          for (const buffer of message.buffers) {\n",
              "            buffers.push(buffer);\n",
              "            downloaded += buffer.byteLength;\n",
              "            progress.value = downloaded;\n",
              "          }\n",
              "        }\n",
              "      }\n",
              "      const blob = new Blob(buffers, {type: 'application/binary'});\n",
              "      const a = document.createElement('a');\n",
              "      a.href = window.URL.createObjectURL(blob);\n",
              "      a.download = filename;\n",
              "      div.appendChild(a);\n",
              "      a.click();\n",
              "      div.remove();\n",
              "    }\n",
              "  "
            ]
          },
          "metadata": {}
        },
        {
          "output_type": "display_data",
          "data": {
            "text/plain": [
              "<IPython.core.display.Javascript object>"
            ],
            "application/javascript": [
              "download(\"download_a617e76b-e72d-4c94-a608-d725a3fee754\", \"sidewalk_obj_v1.txt\", 65)"
            ]
          },
          "metadata": {}
        }
      ]
    }
  ]
}