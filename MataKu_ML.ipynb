{
  "cells": [
    {
      "cell_type": "markdown",
      "metadata": {},
      "source": [
        "# Import Library"
      ]
    },
    {
      "cell_type": "code",
      "execution_count": null,
      "metadata": {
        "id": "qn6FPEPbTQhZ"
      },
      "outputs": [],
      "source": [
        "import os\n",
        "import tensorflow as tf\n",
        "import matplotlib.pyplot as plt\n",
        "from tensorflow.keras.preprocessing.image import ImageDataGenerator\n",
        "from google.colab import drive"
      ]
    },
    {
      "cell_type": "markdown",
      "metadata": {},
      "source": [
        "# Loading Dataset"
      ]
    },
    {
      "cell_type": "code",
      "execution_count": null,
      "metadata": {
        "colab": {
          "base_uri": "https://localhost:8080/"
        },
        "id": "3eeclKzPUqGT",
        "outputId": "e2210a0d-9a85-4fc0-b9fa-1e6327c53e9c"
      },
      "outputs": [
        {
          "name": "stdout",
          "output_type": "stream",
          "text": [
            "Mounted at /content/drive\n"
          ]
        }
      ],
      "source": [
        "drive.mount('/content/drive/')"
      ]
    },
    {
      "cell_type": "code",
      "execution_count": null,
      "metadata": {
        "colab": {
          "base_uri": "https://localhost:8080/"
        },
        "id": "HfZVjbIUVntj",
        "outputId": "adfe948b-9dca-4e20-a33a-4ad1e14d365f"
      },
      "outputs": [
        {
          "name": "stdout",
          "output_type": "stream",
          "text": [
            "There are 10 classes for training\n",
            "There are 10 classes for testing\n"
          ]
        }
      ],
      "source": [
        "train_dir = '/content/drive/MyDrive/dataset/train'\n",
        "test_dir = '/content/drive/MyDrive/dataset/test'\n",
        "print(f\"There are {len(os.listdir(train_dir))} classes for training\")\n",
        "print(f\"There are {len(os.listdir(test_dir))} classes for testing\")"
      ]
    },
    {
      "cell_type": "markdown",
      "metadata": {},
      "source": [
        "# Image Augmentation"
      ]
    },
    {
      "cell_type": "code",
      "execution_count": null,
      "metadata": {},
      "outputs": [],
      "source": [
        "def train_val_generators(training_dir, validation_dir):\n",
        "  train_datagen = ImageDataGenerator(rescale=1/255,\n",
        "                                     rotation_range=40,\n",
        "                                     width_shift_range=0.2,\n",
        "                                     height_shift_range=0.2,\n",
        "                                     shear_range=0.2,\n",
        "                                     zoom_range=0.2,\n",
        "                                     horizontal_flip=True,\n",
        "                                     fill_mode='nearest')\n",
        "\n",
        "  train_generator = train_datagen.flow_from_directory(directory=train_dir,\n",
        "                                                      batch_size=64,\n",
        "                                                      class_mode='categorical',\n",
        "                                                      target_size=(300, 300))\n",
        "  \n",
        "  val_datagen = ImageDataGenerator(rescale=1/255)\n",
        "\n",
        "  val_generator = val_datagen.flow_from_directory(directory=test_dir,\n",
        "                                                  batch_size=64,\n",
        "                                                  class_mode='categorical',\n",
        "                                                  target_size=(300, 300))\n",
        "  return train_generator, val_generator"
      ]
    },
    {
      "cell_type": "code",
      "execution_count": null,
      "metadata": {},
      "outputs": [],
      "source": [
        "train_generator, validation_generator = train_val_generators(train_dir, test_dir)"
      ]
    }
  ],
  "metadata": {
    "accelerator": "GPU",
    "colab": {
      "name": "MataKu - ML",
      "provenance": []
    },
    "kernelspec": {
      "display_name": "Python 3",
      "name": "python3"
    },
    "language_info": {
      "name": "python"
    }
  },
  "nbformat": 4,
  "nbformat_minor": 0
}
