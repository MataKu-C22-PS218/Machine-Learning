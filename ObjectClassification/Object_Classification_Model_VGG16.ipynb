{
  "nbformat": 4,
  "nbformat_minor": 0,
  "metadata": {
    "colab": {
      "name": "Object_Classification_Model_VGG16",
      "provenance": [],
      "collapsed_sections": []
    },
    "kernelspec": {
      "name": "python3",
      "display_name": "Python 3"
    },
    "language_info": {
      "name": "python"
    },
    "accelerator": "GPU"
  },
  "cells": [
    {
      "cell_type": "markdown",
      "source": [
        "# Import Library"
      ],
      "metadata": {
        "id": "FE7a7aHGv4ZJ"
      }
    },
    {
      "cell_type": "code",
      "execution_count": null,
      "metadata": {
        "id": "qn6FPEPbTQhZ"
      },
      "outputs": [],
      "source": [
        "import os\n",
        "import zipfile\n",
        "import tensorflow as tf\n",
        "import matplotlib.pyplot as plt\n",
        "from tensorflow.keras.preprocessing.image import ImageDataGenerator"
      ]
    },
    {
      "cell_type": "markdown",
      "source": [
        "# Downloading Dataset"
      ],
      "metadata": {
        "id": "TkliawOev9-L"
      }
    },
    {
      "cell_type": "code",
      "source": [
        "! pip install -U -q PyDrive\n",
        "from pydrive.auth import GoogleAuth\n",
        "from pydrive.drive import GoogleDrive\n",
        "from google.colab import auth\n",
        "from oauth2client.client import GoogleCredentials"
      ],
      "metadata": {
        "id": "3eeclKzPUqGT"
      },
      "execution_count": null,
      "outputs": []
    },
    {
      "cell_type": "code",
      "source": [
        "auth.authenticate_user()\n",
        "gauth = GoogleAuth()\n",
        "gauth.credentials = GoogleCredentials.get_application_default()\n",
        "drive = GoogleDrive(gauth)"
      ],
      "metadata": {
        "id": "iyz1TphoR7EN"
      },
      "execution_count": null,
      "outputs": []
    },
    {
      "cell_type": "code",
      "source": [
        "url = 'https://drive.google.com/file/d/1aX4pxw4KsGbhz3ZP9STm0xfN4HyuN8cy/view?usp=sharing'\n",
        "# Split link to get ID\n",
        "split1 = url.split('d/')[1]\n",
        "id = split1.split('/view?')[0]\n",
        "print(id)"
      ],
      "metadata": {
        "colab": {
          "base_uri": "https://localhost:8080/"
        },
        "id": "zlfHKUmESOcv",
        "outputId": "7ddf028b-571a-4d53-d689-5fbe765b4ed1"
      },
      "execution_count": null,
      "outputs": [
        {
          "output_type": "stream",
          "name": "stdout",
          "text": [
            "1aX4pxw4KsGbhz3ZP9STm0xfN4HyuN8cy\n"
          ]
        }
      ]
    },
    {
      "cell_type": "code",
      "source": [
        "# Downloading file\n",
        "file = drive.CreateFile({'id':id})\n",
        "file.GetContentFile('Sidewalk_Object_Dataset.zip')"
      ],
      "metadata": {
        "id": "HuWjoA1hTQHi"
      },
      "execution_count": null,
      "outputs": []
    },
    {
      "cell_type": "code",
      "source": [
        "fzip = 'Sidewalk_Object_Dataset.zip'\n",
        "zip_ref = zipfile.ZipFile(fzip, 'r')\n",
        "zip_ref.extractall('./SidewalkDataset')\n",
        "zip_ref.close()"
      ],
      "metadata": {
        "id": "qn5BleomT3qJ"
      },
      "execution_count": null,
      "outputs": []
    },
    {
      "cell_type": "markdown",
      "source": [
        "# Image Augmentation"
      ],
      "metadata": {
        "id": "9qsFuYWmwY3a"
      }
    },
    {
      "cell_type": "code",
      "source": [
        "train_dir = '/content/SidewalkDataset/train'\n",
        "val_dir = '/content/SidewalkDataset/val'"
      ],
      "metadata": {
        "id": "esVe6fI6VQCv"
      },
      "execution_count": null,
      "outputs": []
    },
    {
      "cell_type": "code",
      "source": [
        "def train_val_generators(training_dir, validation_dir):\n",
        "  train_datagen = ImageDataGenerator(\n",
        "      rescale=1/255,\n",
        "      rotation_range=40,\n",
        "      width_shift_range=0.2,\n",
        "      height_shift_range=0.2,\n",
        "      shear_range=0.2,\n",
        "      zoom_range=0.2,\n",
        "      horizontal_flip=True,\n",
        "      fill_mode='nearest'\n",
        "  )\n",
        "\n",
        "  train_generator = train_datagen.flow_from_directory(\n",
        "      directory=train_dir,\n",
        "      batch_size=64,\n",
        "      class_mode='categorical',\n",
        "      target_size=(150, 150)\n",
        "  )\n",
        "  \n",
        "  val_datagen = ImageDataGenerator(rescale=1/255)\n",
        "\n",
        "  val_generator = val_datagen.flow_from_directory(\n",
        "      directory=val_dir,\n",
        "      batch_size=64,\n",
        "      class_mode='categorical',\n",
        "      target_size=(150, 150)\n",
        "  )\n",
        "\n",
        "  return train_generator, val_generator"
      ],
      "metadata": {
        "id": "pycPjkB2e6uS"
      },
      "execution_count": null,
      "outputs": []
    },
    {
      "cell_type": "code",
      "source": [
        "train_generator, validation_generator = train_val_generators(train_dir, val_dir)"
      ],
      "metadata": {
        "colab": {
          "base_uri": "https://localhost:8080/"
        },
        "id": "k86CbSJpg_tJ",
        "outputId": "52699b27-83c5-4ce5-e797-8abc2f42aab9"
      },
      "execution_count": null,
      "outputs": [
        {
          "output_type": "stream",
          "name": "stdout",
          "text": [
            "Found 2254 images belonging to 9 classes.\n",
            "Found 466 images belonging to 9 classes.\n"
          ]
        }
      ]
    },
    {
      "cell_type": "code",
      "source": [
        "train_generator.class_indices"
      ],
      "metadata": {
        "colab": {
          "base_uri": "https://localhost:8080/"
        },
        "id": "PhbgoYUk3IKX",
        "outputId": "95bb31ef-7f99-4e60-f298-728df6418692"
      },
      "execution_count": null,
      "outputs": [
        {
          "output_type": "execute_result",
          "data": {
            "text/plain": [
              "{'Bench': 0,\n",
              " 'Bicycle': 1,\n",
              " 'Car': 2,\n",
              " 'Flowerpot': 3,\n",
              " 'Motorcycle': 4,\n",
              " 'Person': 5,\n",
              " 'Pole': 6,\n",
              " 'Potholes': 7,\n",
              " 'Truck': 8}"
            ]
          },
          "metadata": {},
          "execution_count": 10
        }
      ]
    },
    {
      "cell_type": "code",
      "source": [
        "validation_generator.class_indices"
      ],
      "metadata": {
        "colab": {
          "base_uri": "https://localhost:8080/"
        },
        "id": "N6OWJrs83NHi",
        "outputId": "095ea831-25f8-446b-ede7-a3e8137ebacd"
      },
      "execution_count": null,
      "outputs": [
        {
          "output_type": "execute_result",
          "data": {
            "text/plain": [
              "{'Bench': 0,\n",
              " 'Bicycle': 1,\n",
              " 'Car': 2,\n",
              " 'Flowerpot': 3,\n",
              " 'Motorcycle': 4,\n",
              " 'Person': 5,\n",
              " 'Pole': 6,\n",
              " 'Potholes': 7,\n",
              " 'Truck': 8}"
            ]
          },
          "metadata": {},
          "execution_count": 11
        }
      ]
    },
    {
      "cell_type": "code",
      "source": [
        "class_names = []\n",
        "for category in train_generator.class_indices:\n",
        "  class_names.append(category)"
      ],
      "metadata": {
        "id": "UW0Mrop0nH5O"
      },
      "execution_count": null,
      "outputs": []
    },
    {
      "cell_type": "markdown",
      "source": [
        "# Transfer Learning: VGG16"
      ],
      "metadata": {
        "id": "u8LyU_5KxBEl"
      }
    },
    {
      "cell_type": "code",
      "source": [
        "# Import model\n",
        "from tensorflow.keras.applications.vgg16 import VGG16\n",
        "\n",
        "model = tf.keras.models.Sequential([\n",
        "    VGG16(include_top=False, weights='imagenet', input_shape=(150,150,3)),\n",
        "    tf.keras.layers.Flatten(),\n",
        "    tf.keras.layers.Dense(512, activation='relu'),\n",
        "    tf.keras.layers.Dense(256, activation='relu'),\n",
        "    tf.keras.layers.Dense(9, activation='softmax')\n",
        "])\n",
        "\n",
        "# Make the pre-trained model non trainable\n",
        "model.layers[0].trainable = False\n",
        "model.summary()"
      ],
      "metadata": {
        "id": "2xk_vsafSRO2",
        "colab": {
          "base_uri": "https://localhost:8080/"
        },
        "outputId": "54d5210e-f481-403c-a230-cadbcfbb9994"
      },
      "execution_count": null,
      "outputs": [
        {
          "output_type": "stream",
          "name": "stdout",
          "text": [
            "Model: \"sequential\"\n",
            "_________________________________________________________________\n",
            " Layer (type)                Output Shape              Param #   \n",
            "=================================================================\n",
            " vgg16 (Functional)          (None, 4, 4, 512)         14714688  \n",
            "                                                                 \n",
            " flatten (Flatten)           (None, 8192)              0         \n",
            "                                                                 \n",
            " dense (Dense)               (None, 512)               4194816   \n",
            "                                                                 \n",
            " dense_1 (Dense)             (None, 256)               131328    \n",
            "                                                                 \n",
            " dense_2 (Dense)             (None, 9)                 2313      \n",
            "                                                                 \n",
            "=================================================================\n",
            "Total params: 19,043,145\n",
            "Trainable params: 4,328,457\n",
            "Non-trainable params: 14,714,688\n",
            "_________________________________________________________________\n"
          ]
        }
      ]
    },
    {
      "cell_type": "code",
      "source": [
        "model.compile(\n",
        "    optimizer='RMSprop',\n",
        "    loss='categorical_crossentropy',\n",
        "    metrics=['accuracy']\n",
        ")"
      ],
      "metadata": {
        "id": "yR1UXemgXFB0"
      },
      "execution_count": null,
      "outputs": []
    },
    {
      "cell_type": "code",
      "source": [
        "history = model.fit(\n",
        "    train_generator,\n",
        "    epochs = 20,\n",
        "    validation_data = validation_generator,\n",
        "    verbose = 1,\n",
        ")"
      ],
      "metadata": {
        "colab": {
          "base_uri": "https://localhost:8080/"
        },
        "id": "VM0TMnAzXKZZ",
        "outputId": "35375f58-b25b-4f87-af36-f97a169cd999"
      },
      "execution_count": null,
      "outputs": [
        {
          "output_type": "stream",
          "name": "stdout",
          "text": [
            "Epoch 1/20\n",
            "15/36 [===========>..................] - ETA: 36s - loss: 3.5312 - accuracy: 0.3469"
          ]
        },
        {
          "output_type": "stream",
          "name": "stderr",
          "text": [
            "/usr/local/lib/python3.7/dist-packages/PIL/Image.py:960: UserWarning: Palette images with Transparency expressed in bytes should be converted to RGBA images\n",
            "  \"Palette images with Transparency expressed in bytes should be \"\n"
          ]
        },
        {
          "output_type": "stream",
          "name": "stdout",
          "text": [
            "36/36 [==============================] - 84s 2s/step - loss: 2.0692 - accuracy: 0.5479 - val_loss: 0.3993 - val_accuracy: 0.8906\n",
            "Epoch 2/20\n",
            "36/36 [==============================] - 69s 2s/step - loss: 0.6882 - accuracy: 0.7791 - val_loss: 0.4621 - val_accuracy: 0.8734\n",
            "Epoch 3/20\n",
            "36/36 [==============================] - 68s 2s/step - loss: 0.5308 - accuracy: 0.8203 - val_loss: 0.3353 - val_accuracy: 0.8884\n",
            "Epoch 4/20\n",
            "36/36 [==============================] - 67s 2s/step - loss: 0.5044 - accuracy: 0.8323 - val_loss: 0.2752 - val_accuracy: 0.9034\n",
            "Epoch 5/20\n",
            "36/36 [==============================] - 68s 2s/step - loss: 0.3765 - accuracy: 0.8789 - val_loss: 0.3027 - val_accuracy: 0.9013\n",
            "Epoch 6/20\n",
            "36/36 [==============================] - 68s 2s/step - loss: 0.3685 - accuracy: 0.8744 - val_loss: 0.2791 - val_accuracy: 0.9142\n",
            "Epoch 7/20\n",
            "36/36 [==============================] - 68s 2s/step - loss: 0.3173 - accuracy: 0.8935 - val_loss: 0.3973 - val_accuracy: 0.8648\n",
            "Epoch 8/20\n",
            "36/36 [==============================] - 67s 2s/step - loss: 0.3212 - accuracy: 0.8971 - val_loss: 0.2120 - val_accuracy: 0.9335\n",
            "Epoch 9/20\n",
            "36/36 [==============================] - 67s 2s/step - loss: 0.3293 - accuracy: 0.8931 - val_loss: 0.2170 - val_accuracy: 0.9313\n",
            "Epoch 10/20\n",
            "36/36 [==============================] - 68s 2s/step - loss: 0.2978 - accuracy: 0.9073 - val_loss: 0.2281 - val_accuracy: 0.9185\n",
            "Epoch 11/20\n",
            "36/36 [==============================] - 68s 2s/step - loss: 0.2456 - accuracy: 0.9135 - val_loss: 0.2889 - val_accuracy: 0.9249\n",
            "Epoch 12/20\n",
            "36/36 [==============================] - 68s 2s/step - loss: 0.2609 - accuracy: 0.9206 - val_loss: 0.3471 - val_accuracy: 0.9013\n",
            "Epoch 13/20\n",
            "36/36 [==============================] - 68s 2s/step - loss: 0.2519 - accuracy: 0.9148 - val_loss: 0.2122 - val_accuracy: 0.9356\n",
            "Epoch 14/20\n",
            "36/36 [==============================] - 69s 2s/step - loss: 0.2174 - accuracy: 0.9272 - val_loss: 0.2562 - val_accuracy: 0.9270\n",
            "Epoch 15/20\n",
            "36/36 [==============================] - 68s 2s/step - loss: 0.2472 - accuracy: 0.9170 - val_loss: 0.2255 - val_accuracy: 0.9120\n",
            "Epoch 16/20\n",
            "36/36 [==============================] - 68s 2s/step - loss: 0.2255 - accuracy: 0.9241 - val_loss: 0.3258 - val_accuracy: 0.9249\n",
            "Epoch 17/20\n",
            "36/36 [==============================] - 69s 2s/step - loss: 0.1782 - accuracy: 0.9383 - val_loss: 0.2758 - val_accuracy: 0.9249\n",
            "Epoch 18/20\n",
            "36/36 [==============================] - 68s 2s/step - loss: 0.2120 - accuracy: 0.9295 - val_loss: 0.2678 - val_accuracy: 0.9227\n",
            "Epoch 19/20\n",
            "36/36 [==============================] - 69s 2s/step - loss: 0.2008 - accuracy: 0.9277 - val_loss: 0.2359 - val_accuracy: 0.9249\n",
            "Epoch 20/20\n",
            "36/36 [==============================] - 69s 2s/step - loss: 0.1941 - accuracy: 0.9361 - val_loss: 0.2197 - val_accuracy: 0.9249\n"
          ]
        }
      ]
    },
    {
      "cell_type": "markdown",
      "source": [
        "# Plotting Accuracy and Loss"
      ],
      "metadata": {
        "id": "BKOKLyA3eTLU"
      }
    },
    {
      "cell_type": "code",
      "source": [
        "acc = history.history['accuracy']\n",
        "val_acc = history.history['val_accuracy']\n",
        "loss = history.history['loss']\n",
        "val_loss = history.history['val_loss']\n",
        "epochs=range(len(acc))\n",
        "\n",
        "# Accuracy\n",
        "plt.plot(epochs, acc, 'r', label=\"Training Accuracy\")\n",
        "plt.plot(epochs, val_acc, 'b', label=\"Validation Accuracy\")\n",
        "plt.title('Training and Validation Accuracy')\n",
        "plt.legend()\n",
        "plt.figure()\n",
        "\n",
        "# Loss\n",
        "plt.plot(epochs, loss, 'r', label=\"Training Loss\")\n",
        "plt.plot(epochs, val_loss, 'b', label=\"Validation Loss\")\n",
        "plt.title('Training and Validation Loss')\n",
        "plt.legend()\n",
        "\n",
        "plt.show()"
      ],
      "metadata": {
        "id": "Y_FBISNUeLCc",
        "colab": {
          "base_uri": "https://localhost:8080/"
        },
        "outputId": "6badcf9b-2e23-46b6-d182-90746a9cde55"
      },
      "execution_count": null,
      "outputs": [
        {
          "output_type": "display_data",
          "data": {
            "text/plain": [
              "<Figure size 432x288 with 1 Axes>"
            ],
            "image/png": "[encoded data removed]"
          },
          "metadata": {
            "needs_background": "light"
          }
        },
        {
          "output_type": "display_data",
          "data": {
            "text/plain": [
              "<Figure size 432x288 with 1 Axes>"
            ],
            "image/png": "[encoded data removed]"
          },
          "metadata": {
            "needs_background": "light"
          }
        }
      ]
    },
    {
      "cell_type": "markdown",
      "source": [
        "# Export Model"
      ],
      "metadata": {
        "id": "S2XB-avLiG1T"
      }
    },
    {
      "cell_type": "code",
      "source": [
        "# Save model to h5 format\n",
        "model.save('sidewalk_obj_VGG16.h5')"
      ],
      "metadata": {
        "id": "Mb_y-78MoRf3"
      },
      "execution_count": null,
      "outputs": []
    },
    {
      "cell_type": "code",
      "source": [
        "export_dir = 'saved_model/vgg'\n",
        "tf.saved_model.save(model, export_dir=export_dir)\n"
      ],
      "metadata": {
        "id": "KkSYDiKOiGci",
        "colab": {
          "base_uri": "https://localhost:8080/"
        },
        "outputId": "10843d49-87cd-4a4e-a6b5-dde9279810bc"
      },
      "execution_count": null,
      "outputs": [
        {
          "output_type": "stream",
          "name": "stdout",
          "text": [
            "INFO:tensorflow:Assets written to: saved_model/vgg/assets\n"
          ]
        }
      ]
    },
    {
      "cell_type": "code",
      "source": [
        "# Convert model\n",
        "converter = tf.lite.TFLiteConverter.from_saved_model(export_dir)\n",
        "converter.optimizations = [tf.lite.Optimize.OPTIMIZE_FOR_SIZE]\n",
        "tflite_model = converter.convert()\n",
        "\n",
        "# Write TFLite model\n",
        "tflite_model_file = \"sidewalk_obj_VGG16.tflite\"\n",
        "\n",
        "with open(tflite_model_file, \"wb\") as f:\n",
        "    f.write(tflite_model)\n",
        "\n",
        "with open('sidewalk_obj_VGG16.txt', 'w') as f:\n",
        "    f.write('\\n'.join(class_names))"
      ],
      "metadata": {
        "id": "OkfXDo4plcZV",
        "colab": {
          "base_uri": "https://localhost:8080/"
        },
        "outputId": "d38de6b0-c2a9-49d6-8aaf-d80c3bd62c37"
      },
      "execution_count": null,
      "outputs": [
        {
          "output_type": "stream",
          "name": "stderr",
          "text": [
            "WARNING:absl:Optimization option OPTIMIZE_FOR_SIZE is deprecated, please use optimizations=[Optimize.DEFAULT] instead.\n",
            "WARNING:absl:Optimization option OPTIMIZE_FOR_SIZE is deprecated, please use optimizations=[Optimize.DEFAULT] instead.\n",
            "WARNING:absl:Optimization option OPTIMIZE_FOR_SIZE is deprecated, please use optimizations=[Optimize.DEFAULT] instead.\n",
            "WARNING:absl:Buffer deduplication procedure will be skipped when flatbuffer library is not properly loaded\n"
          ]
        }
      ]
    },
    {
      "cell_type": "code",
      "source": [
        "from google.colab import files\n",
        "try:\n",
        "    files.download('sidewalk_obj_VGG16.tflite')\n",
        "    files.download('sidewalk_obj_VGG16.h5')\n",
        "    files.download('sidewalk_obj_VGG16.txt')\n",
        "except:\n",
        "    pass"
      ],
      "metadata": {
        "id": "qWkoVL2bnQt-",
        "colab": {
          "base_uri": "https://localhost:8080/",
          "height": 52
        },
        "outputId": "b54eeec5-b927-443f-9722-5bed0b41ca65"
      },
      "execution_count": null,
      "outputs": [
        {
          "output_type": "display_data",
          "data": {
            "text/plain": [
              "<IPython.core.display.Javascript object>"
            ],
            "application/javascript": [
              "\n",
              "    async function download(id, filename, size) {\n",
              "      if (!google.colab.kernel.accessAllowed) {\n",
              "        return;\n",
              "      }\n",
              "      const div = document.createElement('div');\n",
              "      const label = document.createElement('label');\n",
              "      label.textContent = `Downloading \"${filename}\": `;\n",
              "      div.appendChild(label);\n",
              "      const progress = document.createElement('progress');\n",
              "      progress.max = size;\n",
              "      div.appendChild(progress);\n",
              "      document.body.appendChild(div);\n",
              "\n",
              "      const buffers = [];\n",
              "      let downloaded = 0;\n",
              "\n",
              "      const channel = await google.colab.kernel.comms.open(id);\n",
              "      // Send a message to notify the kernel that we're ready.\n",
              "      channel.send({})\n",
              "\n",
              "      for await (const message of channel.messages) {\n",
              "        // Send a message to notify the kernel that we're ready.\n",
              "        channel.send({})\n",
              "        if (message.buffers) {\n",
              "          for (const buffer of message.buffers) {\n",
              "            buffers.push(buffer);\n",
              "            downloaded += buffer.byteLength;\n",
              "            progress.value = downloaded;\n",
              "          }\n",
              "        }\n",
              "      }\n",
              "      const blob = new Blob(buffers, {type: 'application/binary'});\n",
              "      const a = document.createElement('a');\n",
              "      a.href = window.URL.createObjectURL(blob);\n",
              "      a.download = filename;\n",
              "      div.appendChild(a);\n",
              "      a.click();\n",
              "      div.remove();\n",
              "    }\n",
              "  "
            ]
          },
          "metadata": {}
        },
        {
          "output_type": "display_data",
          "data": {
            "text/plain": [
              "<IPython.core.display.Javascript object>"
            ],
            "application/javascript": [
              "download(\"download_73466718-4795-42c1-a3b7-178a3a96f663\", \"sidewalk_obj_VGG16.tflite\", 19153232)"
            ]
          },
          "metadata": {}
        },
        {
          "output_type": "display_data",
          "data": {
            "text/plain": [
              "<IPython.core.display.Javascript object>"
            ],
            "application/javascript": [
              "\n",
              "    async function download(id, filename, size) {\n",
              "      if (!google.colab.kernel.accessAllowed) {\n",
              "        return;\n",
              "      }\n",
              "      const div = document.createElement('div');\n",
              "      const label = document.createElement('label');\n",
              "      label.textContent = `Downloading \"${filename}\": `;\n",
              "      div.appendChild(label);\n",
              "      const progress = document.createElement('progress');\n",
              "      progress.max = size;\n",
              "      div.appendChild(progress);\n",
              "      document.body.appendChild(div);\n",
              "\n",
              "      const buffers = [];\n",
              "      let downloaded = 0;\n",
              "\n",
              "      const channel = await google.colab.kernel.comms.open(id);\n",
              "      // Send a message to notify the kernel that we're ready.\n",
              "      channel.send({})\n",
              "\n",
              "      for await (const message of channel.messages) {\n",
              "        // Send a message to notify the kernel that we're ready.\n",
              "        channel.send({})\n",
              "        if (message.buffers) {\n",
              "          for (const buffer of message.buffers) {\n",
              "            buffers.push(buffer);\n",
              "            downloaded += buffer.byteLength;\n",
              "            progress.value = downloaded;\n",
              "          }\n",
              "        }\n",
              "      }\n",
              "      const blob = new Blob(buffers, {type: 'application/binary'});\n",
              "      const a = document.createElement('a');\n",
              "      a.href = window.URL.createObjectURL(blob);\n",
              "      a.download = filename;\n",
              "      div.appendChild(a);\n",
              "      a.click();\n",
              "      div.remove();\n",
              "    }\n",
              "  "
            ]
          },
          "metadata": {}
        },
        {
          "output_type": "display_data",
          "data": {
            "text/plain": [
              "<IPython.core.display.Javascript object>"
            ],
            "application/javascript": [
              "download(\"download_28fc8106-ac0f-4188-afe6-19772fc5b0f0\", \"sidewalk_obj_VGG16.h5\", 93561040)"
            ]
          },
          "metadata": {}
        },
        {
          "output_type": "display_data",
          "data": {
            "text/plain": [
              "<IPython.core.display.Javascript object>"
            ],
            "application/javascript": [
              "\n",
              "    async function download(id, filename, size) {\n",
              "      if (!google.colab.kernel.accessAllowed) {\n",
              "        return;\n",
              "      }\n",
              "      const div = document.createElement('div');\n",
              "      const label = document.createElement('label');\n",
              "      label.textContent = `Downloading \"${filename}\": `;\n",
              "      div.appendChild(label);\n",
              "      const progress = document.createElement('progress');\n",
              "      progress.max = size;\n",
              "      div.appendChild(progress);\n",
              "      document.body.appendChild(div);\n",
              "\n",
              "      const buffers = [];\n",
              "      let downloaded = 0;\n",
              "\n",
              "      const channel = await google.colab.kernel.comms.open(id);\n",
              "      // Send a message to notify the kernel that we're ready.\n",
              "      channel.send({})\n",
              "\n",
              "      for await (const message of channel.messages) {\n",
              "        // Send a message to notify the kernel that we're ready.\n",
              "        channel.send({})\n",
              "        if (message.buffers) {\n",
              "          for (const buffer of message.buffers) {\n",
              "            buffers.push(buffer);\n",
              "            downloaded += buffer.byteLength;\n",
              "            progress.value = downloaded;\n",
              "          }\n",
              "        }\n",
              "      }\n",
              "      const blob = new Blob(buffers, {type: 'application/binary'});\n",
              "      const a = document.createElement('a');\n",
              "      a.href = window.URL.createObjectURL(blob);\n",
              "      a.download = filename;\n",
              "      div.appendChild(a);\n",
              "      a.click();\n",
              "      div.remove();\n",
              "    }\n",
              "  "
            ]
          },
          "metadata": {}
        },
        {
          "output_type": "display_data",
          "data": {
            "text/plain": [
              "<IPython.core.display.Javascript object>"
            ],
            "application/javascript": [
              "download(\"download_4a4ac1cc-d8e5-475b-b59e-cbbfbe024543\", \"sidewalk_obj_VGG16.txt\", 65)"
            ]
          },
          "metadata": {}
        }
      ]
    }
  ]
}