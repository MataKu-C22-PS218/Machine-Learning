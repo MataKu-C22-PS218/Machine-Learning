{
  "nbformat": 4,
  "nbformat_minor": 0,
  "metadata": {
    "colab": {
      "name": "Object_Classification_Model_2",
      "provenance": [],
      "collapsed_sections": []
    },
    "kernelspec": {
      "name": "python3",
      "display_name": "Python 3"
    },
    "language_info": {
      "name": "python"
    },
    "accelerator": "GPU"
  },
  "cells": [
    {
      "cell_type": "markdown",
      "source": [
        "# Import Library"
      ],
      "metadata": {
        "id": "FE7a7aHGv4ZJ"
      }
    },
    {
      "cell_type": "code",
      "execution_count": 2,
      "metadata": {
        "id": "qn6FPEPbTQhZ"
      },
      "outputs": [],
      "source": [
        "import os\n",
        "import zipfile\n",
        "import tensorflow as tf\n",
        "import matplotlib.pyplot as plt\n",
        "from tensorflow.keras.preprocessing.image import ImageDataGenerator"
      ]
    },
    {
      "cell_type": "markdown",
      "source": [
        "# Downloading Dataset"
      ],
      "metadata": {
        "id": "TkliawOev9-L"
      }
    },
    {
      "cell_type": "code",
      "source": [
        "! pip install -U -q PyDrive\n",
        "from pydrive.auth import GoogleAuth\n",
        "from pydrive.drive import GoogleDrive\n",
        "from google.colab import auth\n",
        "from oauth2client.client import GoogleCredentials"
      ],
      "metadata": {
        "id": "3eeclKzPUqGT"
      },
      "execution_count": 3,
      "outputs": []
    },
    {
      "cell_type": "code",
      "source": [
        "auth.authenticate_user()\n",
        "gauth = GoogleAuth()\n",
        "gauth.credentials = GoogleCredentials.get_application_default()\n",
        "drive = GoogleDrive(gauth)"
      ],
      "metadata": {
        "id": "iyz1TphoR7EN"
      },
      "execution_count": 4,
      "outputs": []
    },
    {
      "cell_type": "code",
      "source": [
        "url = 'https://drive.google.com/file/d/1aX4pxw4KsGbhz3ZP9STm0xfN4HyuN8cy/view?usp=sharing'\n",
        "# Split link to get ID\n",
        "split1 = url.split('d/')[1]\n",
        "id = split1.split('/view?')[0]\n",
        "print(id)"
      ],
      "metadata": {
        "colab": {
          "base_uri": "https://localhost:8080/"
        },
        "id": "zlfHKUmESOcv",
        "outputId": "feeed76a-6526-4626-f130-bde8ee257433"
      },
      "execution_count": 5,
      "outputs": [
        {
          "output_type": "stream",
          "name": "stdout",
          "text": [
            "1aX4pxw4KsGbhz3ZP9STm0xfN4HyuN8cy\n"
          ]
        }
      ]
    },
    {
      "cell_type": "code",
      "source": [
        "# Downloading file\n",
        "file = drive.CreateFile({'id':id})\n",
        "file.GetContentFile('Sidewalk_Object_Dataset.zip')"
      ],
      "metadata": {
        "id": "HuWjoA1hTQHi"
      },
      "execution_count": 6,
      "outputs": []
    },
    {
      "cell_type": "code",
      "source": [
        "fzip = 'Sidewalk_Object_Dataset.zip'\n",
        "zip_ref = zipfile.ZipFile(fzip, 'r')\n",
        "zip_ref.extractall('./SidewalkDataset')\n",
        "zip_ref.close()"
      ],
      "metadata": {
        "id": "qn5BleomT3qJ"
      },
      "execution_count": 7,
      "outputs": []
    },
    {
      "cell_type": "markdown",
      "source": [
        "# Image Augmentation"
      ],
      "metadata": {
        "id": "9qsFuYWmwY3a"
      }
    },
    {
      "cell_type": "code",
      "source": [
        "train_dir = '/content/SidewalkDataset/train'\n",
        "val_dir = '/content/SidewalkDataset/val'"
      ],
      "metadata": {
        "id": "esVe6fI6VQCv"
      },
      "execution_count": 8,
      "outputs": []
    },
    {
      "cell_type": "code",
      "source": [
        "def train_val_generators(training_dir, validation_dir):\n",
        "  train_datagen = ImageDataGenerator(\n",
        "      rescale=1/255,\n",
        "      rotation_range=40,\n",
        "      width_shift_range=0.2,\n",
        "      height_shift_range=0.2,\n",
        "      shear_range=0.2,\n",
        "      zoom_range=0.2,\n",
        "      horizontal_flip=True,\n",
        "      fill_mode='nearest'\n",
        "  )\n",
        "\n",
        "  train_generator = train_datagen.flow_from_directory(\n",
        "      directory=train_dir,\n",
        "      batch_size=32,\n",
        "      class_mode='categorical',\n",
        "      target_size=(150, 150)\n",
        "  )\n",
        "  \n",
        "  val_datagen = ImageDataGenerator(rescale=1/255)\n",
        "\n",
        "  val_generator = val_datagen.flow_from_directory(\n",
        "      directory=val_dir,\n",
        "      batch_size=32,\n",
        "      class_mode='categorical',\n",
        "      target_size=(150, 150)\n",
        "  )\n",
        "\n",
        "  return train_generator, val_generator"
      ],
      "metadata": {
        "id": "pycPjkB2e6uS"
      },
      "execution_count": 9,
      "outputs": []
    },
    {
      "cell_type": "code",
      "source": [
        "train_generator, validation_generator = train_val_generators(train_dir, val_dir)"
      ],
      "metadata": {
        "colab": {
          "base_uri": "https://localhost:8080/"
        },
        "id": "k86CbSJpg_tJ",
        "outputId": "3eeec589-e2ac-40d2-f68b-5362ce9d2177"
      },
      "execution_count": 10,
      "outputs": [
        {
          "output_type": "stream",
          "name": "stdout",
          "text": [
            "Found 2254 images belonging to 9 classes.\n",
            "Found 466 images belonging to 9 classes.\n"
          ]
        }
      ]
    },
    {
      "cell_type": "code",
      "source": [
        "train_generator.class_indices"
      ],
      "metadata": {
        "colab": {
          "base_uri": "https://localhost:8080/"
        },
        "id": "PhbgoYUk3IKX",
        "outputId": "5f43d6e0-f3d8-46f8-f116-5d294b70d413"
      },
      "execution_count": 11,
      "outputs": [
        {
          "output_type": "execute_result",
          "data": {
            "text/plain": [
              "{'Bench': 0,\n",
              " 'Bicycle': 1,\n",
              " 'Car': 2,\n",
              " 'Flowerpot': 3,\n",
              " 'Motorcycle': 4,\n",
              " 'Person': 5,\n",
              " 'Pole': 6,\n",
              " 'Potholes': 7,\n",
              " 'Truck': 8}"
            ]
          },
          "metadata": {},
          "execution_count": 11
        }
      ]
    },
    {
      "cell_type": "code",
      "source": [
        "validation_generator.class_indices"
      ],
      "metadata": {
        "colab": {
          "base_uri": "https://localhost:8080/"
        },
        "id": "N6OWJrs83NHi",
        "outputId": "ae67c11f-2f74-4965-8137-2560749fbd27"
      },
      "execution_count": 12,
      "outputs": [
        {
          "output_type": "execute_result",
          "data": {
            "text/plain": [
              "{'Bench': 0,\n",
              " 'Bicycle': 1,\n",
              " 'Car': 2,\n",
              " 'Flowerpot': 3,\n",
              " 'Motorcycle': 4,\n",
              " 'Person': 5,\n",
              " 'Pole': 6,\n",
              " 'Potholes': 7,\n",
              " 'Truck': 8}"
            ]
          },
          "metadata": {},
          "execution_count": 12
        }
      ]
    },
    {
      "cell_type": "code",
      "source": [
        "class_names = []\n",
        "for category in train_generator.class_indices:\n",
        "  class_names.append(category)"
      ],
      "metadata": {
        "id": "UW0Mrop0nH5O"
      },
      "execution_count": 13,
      "outputs": []
    },
    {
      "cell_type": "markdown",
      "source": [
        "# Building Model Architecture"
      ],
      "metadata": {
        "id": "u8LyU_5KxBEl"
      }
    },
    {
      "cell_type": "code",
      "source": [
        "model = tf.keras.models.Sequential([\n",
        "    tf.keras.layers.Conv2D(64, (3,3), activation='relu', input_shape=(150,150,3)),\n",
        "    tf.keras.layers.MaxPooling2D(2,2),\n",
        "    tf.keras.layers.Conv2D(64, (3,3), activation='relu'),\n",
        "    tf.keras.layers.MaxPooling2D(2,2),\n",
        "    tf.keras.layers.Conv2D(64, (3,3), activation='relu'),\n",
        "    tf.keras.layers.MaxPooling2D(2,2),\n",
        "    tf.keras.layers.Conv2D(32, (3,3), activation='relu'),\n",
        "    tf.keras.layers.MaxPooling2D(2,2),\n",
        "    tf.keras.layers.Flatten(),\n",
        "    tf.keras.layers.Dense(1024, activation='relu'),\n",
        "    tf.keras.layers.Dense(512, activation='relu'),\n",
        "    tf.keras.layers.Dense(256, activation='relu'),\n",
        "    tf.keras.layers.Dense(9, activation='softmax')\n",
        "])"
      ],
      "metadata": {
        "id": "3yUE8SpoxEK1"
      },
      "execution_count": 14,
      "outputs": []
    },
    {
      "cell_type": "code",
      "source": [
        "model.compile(\n",
        "    optimizer='RMSprop',\n",
        "    loss='categorical_crossentropy',\n",
        "    metrics=['accuracy']\n",
        ")"
      ],
      "metadata": {
        "id": "yR1UXemgXFB0"
      },
      "execution_count": 15,
      "outputs": []
    },
    {
      "cell_type": "code",
      "source": [
        "history = model.fit(\n",
        "    train_generator,\n",
        "    epochs = 20,\n",
        "    validation_data = validation_generator,\n",
        "    verbose = 1,\n",
        ")"
      ],
      "metadata": {
        "colab": {
          "base_uri": "https://localhost:8080/"
        },
        "id": "VM0TMnAzXKZZ",
        "outputId": "33b6e704-ecff-43fc-aa83-61708f8c01e7"
      },
      "execution_count": 16,
      "outputs": [
        {
          "output_type": "stream",
          "name": "stdout",
          "text": [
            "Epoch 1/20\n",
            " 3/71 [>.............................] - ETA: 37s - loss: 3.5096 - accuracy: 0.1154"
          ]
        },
        {
          "output_type": "stream",
          "name": "stderr",
          "text": [
            "/usr/local/lib/python3.7/dist-packages/PIL/Image.py:960: UserWarning: Palette images with Transparency expressed in bytes should be converted to RGBA images\n",
            "  \"Palette images with Transparency expressed in bytes should be \"\n"
          ]
        },
        {
          "output_type": "stream",
          "name": "stdout",
          "text": [
            "71/71 [==============================] - 89s 1s/step - loss: 2.2497 - accuracy: 0.1158 - val_loss: 2.1947 - val_accuracy: 0.1717\n",
            "Epoch 2/20\n",
            "71/71 [==============================] - 72s 1s/step - loss: 2.1812 - accuracy: 0.1854 - val_loss: 1.9338 - val_accuracy: 0.2639\n",
            "Epoch 3/20\n",
            "71/71 [==============================] - 71s 1s/step - loss: 1.9564 - accuracy: 0.2493 - val_loss: 1.8479 - val_accuracy: 0.2747\n",
            "Epoch 4/20\n",
            "71/71 [==============================] - 71s 1s/step - loss: 1.8462 - accuracy: 0.2893 - val_loss: 1.6649 - val_accuracy: 0.4077\n",
            "Epoch 5/20\n",
            "71/71 [==============================] - 71s 1s/step - loss: 1.6964 - accuracy: 0.3580 - val_loss: 1.4633 - val_accuracy: 0.5043\n",
            "Epoch 6/20\n",
            "71/71 [==============================] - 72s 999ms/step - loss: 1.5664 - accuracy: 0.4224 - val_loss: 1.4042 - val_accuracy: 0.5000\n",
            "Epoch 7/20\n",
            "71/71 [==============================] - 71s 1s/step - loss: 1.5060 - accuracy: 0.4618 - val_loss: 1.2827 - val_accuracy: 0.5300\n",
            "Epoch 8/20\n",
            "71/71 [==============================] - 72s 1s/step - loss: 1.4300 - accuracy: 0.4911 - val_loss: 1.3945 - val_accuracy: 0.5129\n",
            "Epoch 9/20\n",
            "71/71 [==============================] - 72s 1s/step - loss: 1.3628 - accuracy: 0.5186 - val_loss: 1.4960 - val_accuracy: 0.4893\n",
            "Epoch 10/20\n",
            "71/71 [==============================] - 72s 1s/step - loss: 1.2592 - accuracy: 0.5577 - val_loss: 1.2626 - val_accuracy: 0.5880\n",
            "Epoch 11/20\n",
            "71/71 [==============================] - 71s 1s/step - loss: 1.2246 - accuracy: 0.5852 - val_loss: 1.1999 - val_accuracy: 0.5665\n",
            "Epoch 12/20\n",
            "71/71 [==============================] - 71s 1s/step - loss: 1.1629 - accuracy: 0.5896 - val_loss: 1.2473 - val_accuracy: 0.5815\n",
            "Epoch 13/20\n",
            "71/71 [==============================] - 71s 995ms/step - loss: 1.0900 - accuracy: 0.6273 - val_loss: 1.2574 - val_accuracy: 0.5751\n",
            "Epoch 14/20\n",
            "71/71 [==============================] - 71s 998ms/step - loss: 1.0920 - accuracy: 0.6309 - val_loss: 0.9956 - val_accuracy: 0.6803\n",
            "Epoch 15/20\n",
            "71/71 [==============================] - 71s 999ms/step - loss: 1.0626 - accuracy: 0.6406 - val_loss: 0.9539 - val_accuracy: 0.6824\n",
            "Epoch 16/20\n",
            "71/71 [==============================] - 71s 1s/step - loss: 1.0457 - accuracy: 0.6486 - val_loss: 0.9371 - val_accuracy: 0.6867\n",
            "Epoch 17/20\n",
            "71/71 [==============================] - 71s 1s/step - loss: 0.9262 - accuracy: 0.6775 - val_loss: 1.0160 - val_accuracy: 0.6867\n",
            "Epoch 18/20\n",
            "71/71 [==============================] - 71s 1000ms/step - loss: 0.9544 - accuracy: 0.6752 - val_loss: 1.1646 - val_accuracy: 0.6245\n",
            "Epoch 19/20\n",
            "71/71 [==============================] - 71s 996ms/step - loss: 0.8997 - accuracy: 0.6939 - val_loss: 0.9340 - val_accuracy: 0.6695\n",
            "Epoch 20/20\n",
            "71/71 [==============================] - 71s 1s/step - loss: 0.8880 - accuracy: 0.7072 - val_loss: 1.0672 - val_accuracy: 0.6717\n"
          ]
        }
      ]
    },
    {
      "cell_type": "markdown",
      "source": [
        "# Plotting Accuracy and Loss"
      ],
      "metadata": {
        "id": "BKOKLyA3eTLU"
      }
    },
    {
      "cell_type": "code",
      "source": [
        "acc = history.history['accuracy']\n",
        "val_acc = history.history['val_accuracy']\n",
        "loss = history.history['loss']\n",
        "val_loss = history.history['val_loss']\n",
        "epochs=range(len(acc))\n",
        "\n",
        "# Accuracy\n",
        "plt.plot(epochs, acc, 'r', label=\"Training Accuracy\")\n",
        "plt.plot(epochs, val_acc, 'b', label=\"Validation Accuracy\")\n",
        "plt.title('Training and Validation Accuracy')\n",
        "plt.legend()\n",
        "plt.figure()\n",
        "\n",
        "# Loss\n",
        "plt.plot(epochs, loss, 'r', label=\"Training Loss\")\n",
        "plt.plot(epochs, val_loss, 'b', label=\"Validation Loss\")\n",
        "plt.title('Training and Validation Loss')\n",
        "plt.legend()\n",
        "\n",
        "plt.show()"
      ],
      "metadata": {
        "colab": {
          "base_uri": "https://localhost:8080/",
          "height": 545
        },
        "id": "Y_FBISNUeLCc",
        "outputId": "138d418b-5c66-4c29-9087-4cf5ea70b017"
      },
      "execution_count": 17,
      "outputs": [
        {
          "output_type": "display_data",
          "data": {
            "text/plain": [
              "<Figure size 432x288 with 1 Axes>"
            ],
            "image/png": "[encoded data removed]"
          },
          "metadata": {
            "needs_background": "light"
          }
        },
        {
          "output_type": "display_data",
          "data": {
            "text/plain": [
              "<Figure size 432x288 with 1 Axes>"
            ],
            "image/png": "[encoded data removed]"
          },
          "metadata": {
            "needs_background": "light"
          }
        }
      ]
    },
    {
      "cell_type": "markdown",
      "source": [
        "# Export Model"
      ],
      "metadata": {
        "id": "S2XB-avLiG1T"
      }
    },
    {
      "cell_type": "code",
      "source": [
        "# Save model to h5 format\n",
        "model.save('sidewalk_obj_v1.h5')"
      ],
      "metadata": {
        "id": "Mb_y-78MoRf3"
      },
      "execution_count": 18,
      "outputs": []
    },
    {
      "cell_type": "code",
      "source": [
        "export_dir = 'saved_model/1'\n",
        "tf.saved_model.save(model, export_dir=export_dir)\n"
      ],
      "metadata": {
        "colab": {
          "base_uri": "https://localhost:8080/"
        },
        "id": "KkSYDiKOiGci",
        "outputId": "fccd1200-66b9-4e69-9967-ac57113e97f2"
      },
      "execution_count": 19,
      "outputs": [
        {
          "output_type": "stream",
          "name": "stdout",
          "text": [
            "INFO:tensorflow:Assets written to: saved_model/1/assets\n"
          ]
        }
      ]
    },
    {
      "cell_type": "code",
      "source": [
        "# Convert model\n",
        "converter = tf.lite.TFLiteConverter.from_saved_model(export_dir)\n",
        "converter.optimizations = [tf.lite.Optimize.OPTIMIZE_FOR_SIZE]\n",
        "tflite_model = converter.convert()\n",
        "\n",
        "# Write TFLite model\n",
        "tflite_model_file = \"sidewalk_obj_v1.tflite\"\n",
        "\n",
        "with open(tflite_model_file, \"wb\") as f:\n",
        "    f.write(tflite_model)\n",
        "\n",
        "with open('sidewalk_obj_v1.txt', 'w') as f:\n",
        "    f.write('\\n'.join(class_names))"
      ],
      "metadata": {
        "colab": {
          "base_uri": "https://localhost:8080/"
        },
        "id": "OkfXDo4plcZV",
        "outputId": "7e5fada4-a5b1-476b-941c-a0a99e82c3c0"
      },
      "execution_count": 20,
      "outputs": [
        {
          "output_type": "stream",
          "name": "stderr",
          "text": [
            "WARNING:absl:Optimization option OPTIMIZE_FOR_SIZE is deprecated, please use optimizations=[Optimize.DEFAULT] instead.\n",
            "WARNING:absl:Optimization option OPTIMIZE_FOR_SIZE is deprecated, please use optimizations=[Optimize.DEFAULT] instead.\n",
            "WARNING:absl:Optimization option OPTIMIZE_FOR_SIZE is deprecated, please use optimizations=[Optimize.DEFAULT] instead.\n",
            "WARNING:absl:Buffer deduplication procedure will be skipped when flatbuffer library is not properly loaded\n"
          ]
        }
      ]
    },
    {
      "cell_type": "code",
      "source": [
        "from google.colab import files\n",
        "try:\n",
        "    files.download('sidewalk_obj_v1.tflite')\n",
        "    files.download('sidewalk_obj_v1.h5')\n",
        "    files.download('sidewalk_obj_v1.txt')\n",
        "except:\n",
        "    pass"
      ],
      "metadata": {
        "colab": {
          "base_uri": "https://localhost:8080/",
          "height": 34
        },
        "id": "qWkoVL2bnQt-",
        "outputId": "0cd31905-1d65-42e3-d024-1004aacfbd9c"
      },
      "execution_count": 21,
      "outputs": [
        {
          "output_type": "display_data",
          "data": {
            "text/plain": [
              "<IPython.core.display.Javascript object>"
            ],
            "application/javascript": [
              "\n",
              "    async function download(id, filename, size) {\n",
              "      if (!google.colab.kernel.accessAllowed) {\n",
              "        return;\n",
              "      }\n",
              "      const div = document.createElement('div');\n",
              "      const label = document.createElement('label');\n",
              "      label.textContent = `Downloading \"${filename}\": `;\n",
              "      div.appendChild(label);\n",
              "      const progress = document.createElement('progress');\n",
              "      progress.max = size;\n",
              "      div.appendChild(progress);\n",
              "      document.body.appendChild(div);\n",
              "\n",
              "      const buffers = [];\n",
              "      let downloaded = 0;\n",
              "\n",
              "      const channel = await google.colab.kernel.comms.open(id);\n",
              "      // Send a message to notify the kernel that we're ready.\n",
              "      channel.send({})\n",
              "\n",
              "      for await (const message of channel.messages) {\n",
              "        // Send a message to notify the kernel that we're ready.\n",
              "        channel.send({})\n",
              "        if (message.buffers) {\n",
              "          for (const buffer of message.buffers) {\n",
              "            buffers.push(buffer);\n",
              "            downloaded += buffer.byteLength;\n",
              "            progress.value = downloaded;\n",
              "          }\n",
              "        }\n",
              "      }\n",
              "      const blob = new Blob(buffers, {type: 'application/binary'});\n",
              "      const a = document.createElement('a');\n",
              "      a.href = window.URL.createObjectURL(blob);\n",
              "      a.download = filename;\n",
              "      div.appendChild(a);\n",
              "      a.click();\n",
              "      div.remove();\n",
              "    }\n",
              "  "
            ]
          },
          "metadata": {}
        },
        {
          "output_type": "display_data",
          "data": {
            "text/plain": [
              "<IPython.core.display.Javascript object>"
            ],
            "application/javascript": [
              "download(\"download_274819ee-0fec-4f19-a08b-14a204bb7acb\", \"sidewalk_obj_v1.tflite\", 2375392)"
            ]
          },
          "metadata": {}
        },
        {
          "output_type": "display_data",
          "data": {
            "text/plain": [
              "<IPython.core.display.Javascript object>"
            ],
            "application/javascript": [
              "\n",
              "    async function download(id, filename, size) {\n",
              "      if (!google.colab.kernel.accessAllowed) {\n",
              "        return;\n",
              "      }\n",
              "      const div = document.createElement('div');\n",
              "      const label = document.createElement('label');\n",
              "      label.textContent = `Downloading \"${filename}\": `;\n",
              "      div.appendChild(label);\n",
              "      const progress = document.createElement('progress');\n",
              "      progress.max = size;\n",
              "      div.appendChild(progress);\n",
              "      document.body.appendChild(div);\n",
              "\n",
              "      const buffers = [];\n",
              "      let downloaded = 0;\n",
              "\n",
              "      const channel = await google.colab.kernel.comms.open(id);\n",
              "      // Send a message to notify the kernel that we're ready.\n",
              "      channel.send({})\n",
              "\n",
              "      for await (const message of channel.messages) {\n",
              "        // Send a message to notify the kernel that we're ready.\n",
              "        channel.send({})\n",
              "        if (message.buffers) {\n",
              "          for (const buffer of message.buffers) {\n",
              "            buffers.push(buffer);\n",
              "            downloaded += buffer.byteLength;\n",
              "            progress.value = downloaded;\n",
              "          }\n",
              "        }\n",
              "      }\n",
              "      const blob = new Blob(buffers, {type: 'application/binary'});\n",
              "      const a = document.createElement('a');\n",
              "      a.href = window.URL.createObjectURL(blob);\n",
              "      a.download = filename;\n",
              "      div.appendChild(a);\n",
              "      a.click();\n",
              "      div.remove();\n",
              "    }\n",
              "  "
            ]
          },
          "metadata": {}
        },
        {
          "output_type": "display_data",
          "data": {
            "text/plain": [
              "<IPython.core.display.Javascript object>"
            ],
            "application/javascript": [
              "download(\"download_cfe8b3cf-266f-4ff6-ab43-8d9acdfd4e5a\", \"sidewalk_obj_v1.h5\", 18945640)"
            ]
          },
          "metadata": {}
        },
        {
          "output_type": "display_data",
          "data": {
            "text/plain": [
              "<IPython.core.display.Javascript object>"
            ],
            "application/javascript": [
              "\n",
              "    async function download(id, filename, size) {\n",
              "      if (!google.colab.kernel.accessAllowed) {\n",
              "        return;\n",
              "      }\n",
              "      const div = document.createElement('div');\n",
              "      const label = document.createElement('label');\n",
              "      label.textContent = `Downloading \"${filename}\": `;\n",
              "      div.appendChild(label);\n",
              "      const progress = document.createElement('progress');\n",
              "      progress.max = size;\n",
              "      div.appendChild(progress);\n",
              "      document.body.appendChild(div);\n",
              "\n",
              "      const buffers = [];\n",
              "      let downloaded = 0;\n",
              "\n",
              "      const channel = await google.colab.kernel.comms.open(id);\n",
              "      // Send a message to notify the kernel that we're ready.\n",
              "      channel.send({})\n",
              "\n",
              "      for await (const message of channel.messages) {\n",
              "        // Send a message to notify the kernel that we're ready.\n",
              "        channel.send({})\n",
              "        if (message.buffers) {\n",
              "          for (const buffer of message.buffers) {\n",
              "            buffers.push(buffer);\n",
              "            downloaded += buffer.byteLength;\n",
              "            progress.value = downloaded;\n",
              "          }\n",
              "        }\n",
              "      }\n",
              "      const blob = new Blob(buffers, {type: 'application/binary'});\n",
              "      const a = document.createElement('a');\n",
              "      a.href = window.URL.createObjectURL(blob);\n",
              "      a.download = filename;\n",
              "      div.appendChild(a);\n",
              "      a.click();\n",
              "      div.remove();\n",
              "    }\n",
              "  "
            ]
          },
          "metadata": {}
        },
        {
          "output_type": "display_data",
          "data": {
            "text/plain": [
              "<IPython.core.display.Javascript object>"
            ],
            "application/javascript": [
              "download(\"download_bbef40c2-b1dd-422d-b0a9-d7c9d4cb52d1\", \"sidewalk_obj_v1.txt\", 65)"
            ]
          },
          "metadata": {}
        }
      ]
    }
  ]
}