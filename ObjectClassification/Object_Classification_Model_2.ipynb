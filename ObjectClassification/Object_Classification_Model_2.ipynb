{
  "nbformat": 4,
  "nbformat_minor": 0,
  "metadata": {
    "colab": {
      "name": "Object_Classification_Model_2",
      "provenance": [],
      "collapsed_sections": []
    },
    "kernelspec": {
      "name": "python3",
      "display_name": "Python 3"
    },
    "language_info": {
      "name": "python"
    },
    "accelerator": "GPU"
  },
  "cells": [
    {
      "cell_type": "markdown",
      "source": [
        "# Import Library"
      ],
      "metadata": {
        "id": "FE7a7aHGv4ZJ"
      }
    },
    {
      "cell_type": "code",
      "execution_count": 1,
      "metadata": {
        "id": "qn6FPEPbTQhZ"
      },
      "outputs": [],
      "source": [
        "import os\n",
        "import zipfile\n",
        "import tensorflow as tf\n",
        "import matplotlib.pyplot as plt\n",
        "from tensorflow.keras.preprocessing.image import ImageDataGenerator"
      ]
    },
    {
      "cell_type": "markdown",
      "source": [
        "# Downloading Dataset"
      ],
      "metadata": {
        "id": "TkliawOev9-L"
      }
    },
    {
      "cell_type": "code",
      "source": [
        "! pip install -U -q PyDrive\n",
        "from pydrive.auth import GoogleAuth\n",
        "from pydrive.drive import GoogleDrive\n",
        "from google.colab import auth\n",
        "from oauth2client.client import GoogleCredentials"
      ],
      "metadata": {
        "id": "3eeclKzPUqGT"
      },
      "execution_count": 2,
      "outputs": []
    },
    {
      "cell_type": "code",
      "source": [
        "auth.authenticate_user()\n",
        "gauth = GoogleAuth()\n",
        "gauth.credentials = GoogleCredentials.get_application_default()\n",
        "drive = GoogleDrive(gauth)"
      ],
      "metadata": {
        "id": "iyz1TphoR7EN"
      },
      "execution_count": 3,
      "outputs": []
    },
    {
      "cell_type": "code",
      "source": [
        "url = 'https://drive.google.com/file/d/1aX4pxw4KsGbhz3ZP9STm0xfN4HyuN8cy/view?usp=sharing'\n",
        "# Split link to get ID\n",
        "split1 = url.split('d/')[1]\n",
        "id = split1.split('/view?')[0]\n",
        "print(id)"
      ],
      "metadata": {
        "colab": {
          "base_uri": "https://localhost:8080/"
        },
        "id": "zlfHKUmESOcv",
        "outputId": "aa6a271e-c879-4094-ff8c-8de19354dd2c"
      },
      "execution_count": 4,
      "outputs": [
        {
          "output_type": "stream",
          "name": "stdout",
          "text": [
            "1aX4pxw4KsGbhz3ZP9STm0xfN4HyuN8cy\n"
          ]
        }
      ]
    },
    {
      "cell_type": "code",
      "source": [
        "# Downloading file\n",
        "file = drive.CreateFile({'id':id})\n",
        "file.GetContentFile('Sidewalk_Object_Dataset.zip')"
      ],
      "metadata": {
        "id": "HuWjoA1hTQHi"
      },
      "execution_count": 5,
      "outputs": []
    },
    {
      "cell_type": "code",
      "source": [
        "fzip = 'Sidewalk_Object_Dataset.zip'\n",
        "zip_ref = zipfile.ZipFile(fzip, 'r')\n",
        "zip_ref.extractall('./SidewalkDataset')\n",
        "zip_ref.close()"
      ],
      "metadata": {
        "id": "qn5BleomT3qJ"
      },
      "execution_count": 6,
      "outputs": []
    },
    {
      "cell_type": "markdown",
      "source": [
        "# Image Augmentation"
      ],
      "metadata": {
        "id": "9qsFuYWmwY3a"
      }
    },
    {
      "cell_type": "code",
      "source": [
        "train_dir = '/content/SidewalkDataset/train'\n",
        "val_dir = '/content/SidewalkDataset/val'"
      ],
      "metadata": {
        "id": "esVe6fI6VQCv"
      },
      "execution_count": 7,
      "outputs": []
    },
    {
      "cell_type": "code",
      "source": [
        "def train_val_generators(training_dir, validation_dir):\n",
        "  train_datagen = ImageDataGenerator(\n",
        "      rescale=1/255,\n",
        "      rotation_range=40,\n",
        "      width_shift_range=0.2,\n",
        "      height_shift_range=0.2,\n",
        "      shear_range=0.2,\n",
        "      zoom_range=0.2,\n",
        "      horizontal_flip=True,\n",
        "      fill_mode='nearest'\n",
        "  )\n",
        "\n",
        "  train_generator = train_datagen.flow_from_directory(\n",
        "      directory=train_dir,\n",
        "      batch_size=32,\n",
        "      class_mode='categorical',\n",
        "      target_size=(150, 150)\n",
        "  )\n",
        "  \n",
        "  val_datagen = ImageDataGenerator(rescale=1/255)\n",
        "\n",
        "  val_generator = val_datagen.flow_from_directory(\n",
        "      directory=val_dir,\n",
        "      batch_size=32,\n",
        "      class_mode='categorical',\n",
        "      target_size=(150, 150)\n",
        "  )\n",
        "\n",
        "  return train_generator, val_generator"
      ],
      "metadata": {
        "id": "pycPjkB2e6uS"
      },
      "execution_count": 8,
      "outputs": []
    },
    {
      "cell_type": "code",
      "source": [
        "train_generator, validation_generator = train_val_generators(train_dir, val_dir)"
      ],
      "metadata": {
        "colab": {
          "base_uri": "https://localhost:8080/"
        },
        "id": "k86CbSJpg_tJ",
        "outputId": "57d5ea55-1526-4dd1-ed7c-c34340f8e16a"
      },
      "execution_count": 9,
      "outputs": [
        {
          "output_type": "stream",
          "name": "stdout",
          "text": [
            "Found 2254 images belonging to 9 classes.\n",
            "Found 466 images belonging to 9 classes.\n"
          ]
        }
      ]
    },
    {
      "cell_type": "code",
      "source": [
        "train_generator.class_indices"
      ],
      "metadata": {
        "colab": {
          "base_uri": "https://localhost:8080/"
        },
        "id": "PhbgoYUk3IKX",
        "outputId": "d680abed-9006-4531-c509-327b9d2a2507"
      },
      "execution_count": 10,
      "outputs": [
        {
          "output_type": "execute_result",
          "data": {
            "text/plain": [
              "{'Bench': 0,\n",
              " 'Bicycle': 1,\n",
              " 'Car': 2,\n",
              " 'Flowerpot': 3,\n",
              " 'Motorcycle': 4,\n",
              " 'Person': 5,\n",
              " 'Pole': 6,\n",
              " 'Potholes': 7,\n",
              " 'Truck': 8}"
            ]
          },
          "metadata": {},
          "execution_count": 10
        }
      ]
    },
    {
      "cell_type": "code",
      "source": [
        "validation_generator.class_indices"
      ],
      "metadata": {
        "colab": {
          "base_uri": "https://localhost:8080/"
        },
        "id": "N6OWJrs83NHi",
        "outputId": "4ed4459f-40d5-4169-cc74-d5601b3d8298"
      },
      "execution_count": 11,
      "outputs": [
        {
          "output_type": "execute_result",
          "data": {
            "text/plain": [
              "{'Bench': 0,\n",
              " 'Bicycle': 1,\n",
              " 'Car': 2,\n",
              " 'Flowerpot': 3,\n",
              " 'Motorcycle': 4,\n",
              " 'Person': 5,\n",
              " 'Pole': 6,\n",
              " 'Potholes': 7,\n",
              " 'Truck': 8}"
            ]
          },
          "metadata": {},
          "execution_count": 11
        }
      ]
    },
    {
      "cell_type": "code",
      "source": [
        "class_names = []\n",
        "for category in train_generator.class_indices:\n",
        "  class_names.append(category)"
      ],
      "metadata": {
        "id": "UW0Mrop0nH5O"
      },
      "execution_count": 12,
      "outputs": []
    },
    {
      "cell_type": "markdown",
      "source": [
        "# Building Model Architecture"
      ],
      "metadata": {
        "id": "u8LyU_5KxBEl"
      }
    },
    {
      "cell_type": "code",
      "source": [
        "model = tf.keras.models.Sequential([\n",
        "    tf.keras.layers.Conv2D(64, (3,3), activation='relu', input_shape=(150,150,3)),\n",
        "    tf.keras.layers.MaxPooling2D(2,2),\n",
        "    tf.keras.layers.Conv2D(64, (3,3), activation='relu'),\n",
        "    tf.keras.layers.MaxPooling2D(2,2),\n",
        "    tf.keras.layers.Conv2D(64, (3,3), activation='relu'),\n",
        "    tf.keras.layers.MaxPooling2D(2,2),\n",
        "    tf.keras.layers.Conv2D(32, (3,3), activation='relu'),\n",
        "    tf.keras.layers.MaxPooling2D(2,2),\n",
        "    tf.keras.layers.Flatten(),\n",
        "    tf.keras.layers.Dense(1024, activation='relu'),\n",
        "    tf.keras.layers.Dense(512, activation='relu'),\n",
        "    tf.keras.layers.Dense(256, activation='relu'),\n",
        "    tf.keras.layers.Dense(9, activation='softmax')\n",
        "])"
      ],
      "metadata": {
        "id": "3yUE8SpoxEK1"
      },
      "execution_count": 13,
      "outputs": []
    },
    {
      "cell_type": "code",
      "source": [
        "model.compile(\n",
        "    optimizer='RMSprop',\n",
        "    loss='categorical_crossentropy',\n",
        "    metrics=['accuracy']\n",
        ")"
      ],
      "metadata": {
        "id": "yR1UXemgXFB0"
      },
      "execution_count": 14,
      "outputs": []
    },
    {
      "cell_type": "code",
      "source": [
        "history = model.fit(\n",
        "    train_generator,\n",
        "    epochs = 50,\n",
        "    validation_data = validation_generator,\n",
        "    verbose = 1,\n",
        ")"
      ],
      "metadata": {
        "colab": {
          "base_uri": "https://localhost:8080/"
        },
        "id": "VM0TMnAzXKZZ",
        "outputId": "79b2fc2d-3e0d-4da1-d7e9-259ec6c4296a"
      },
      "execution_count": 15,
      "outputs": [
        {
          "output_type": "stream",
          "name": "stdout",
          "text": [
            "Epoch 1/50\n",
            "15/71 [=====>........................] - ETA: 47s - loss: 2.6470 - accuracy: 0.1229"
          ]
        },
        {
          "output_type": "stream",
          "name": "stderr",
          "text": [
            "/usr/local/lib/python3.7/dist-packages/PIL/Image.py:960: UserWarning: Palette images with Transparency expressed in bytes should be converted to RGBA images\n",
            "  \"Palette images with Transparency expressed in bytes should be \"\n"
          ]
        },
        {
          "output_type": "stream",
          "name": "stdout",
          "text": [
            "71/71 [==============================] - 83s 1s/step - loss: 2.3240 - accuracy: 0.1295 - val_loss: 2.1941 - val_accuracy: 0.1373\n",
            "Epoch 2/50\n",
            "71/71 [==============================] - 69s 969ms/step - loss: 2.1906 - accuracy: 0.1513 - val_loss: 2.0496 - val_accuracy: 0.3047\n",
            "Epoch 3/50\n",
            "71/71 [==============================] - 69s 974ms/step - loss: 2.0161 - accuracy: 0.2662 - val_loss: 1.8097 - val_accuracy: 0.3755\n",
            "Epoch 4/50\n",
            "71/71 [==============================] - 69s 974ms/step - loss: 1.8297 - accuracy: 0.3376 - val_loss: 1.7344 - val_accuracy: 0.3433\n",
            "Epoch 5/50\n",
            "71/71 [==============================] - 68s 956ms/step - loss: 1.6379 - accuracy: 0.3993 - val_loss: 1.6893 - val_accuracy: 0.3820\n",
            "Epoch 6/50\n",
            "71/71 [==============================] - 69s 968ms/step - loss: 1.5397 - accuracy: 0.4428 - val_loss: 1.5350 - val_accuracy: 0.4421\n",
            "Epoch 7/50\n",
            "71/71 [==============================] - 68s 956ms/step - loss: 1.4637 - accuracy: 0.4831 - val_loss: 1.3112 - val_accuracy: 0.5343\n",
            "Epoch 8/50\n",
            "71/71 [==============================] - 69s 972ms/step - loss: 1.3860 - accuracy: 0.5253 - val_loss: 1.2927 - val_accuracy: 0.5386\n",
            "Epoch 9/50\n",
            "71/71 [==============================] - 69s 967ms/step - loss: 1.3516 - accuracy: 0.5390 - val_loss: 1.1774 - val_accuracy: 0.6352\n",
            "Epoch 10/50\n",
            "71/71 [==============================] - 69s 977ms/step - loss: 1.2114 - accuracy: 0.5768 - val_loss: 1.0719 - val_accuracy: 0.6395\n",
            "Epoch 11/50\n",
            "71/71 [==============================] - 68s 959ms/step - loss: 1.1823 - accuracy: 0.6114 - val_loss: 1.4124 - val_accuracy: 0.5451\n",
            "Epoch 12/50\n",
            "71/71 [==============================] - 68s 955ms/step - loss: 1.1525 - accuracy: 0.6091 - val_loss: 1.1517 - val_accuracy: 0.6009\n",
            "Epoch 13/50\n",
            "71/71 [==============================] - 68s 957ms/step - loss: 1.0941 - accuracy: 0.6331 - val_loss: 1.0746 - val_accuracy: 0.6266\n",
            "Epoch 14/50\n",
            "71/71 [==============================] - 68s 960ms/step - loss: 1.0986 - accuracy: 0.6517 - val_loss: 1.0289 - val_accuracy: 0.6781\n",
            "Epoch 15/50\n",
            "71/71 [==============================] - 68s 960ms/step - loss: 1.0170 - accuracy: 0.6610 - val_loss: 1.1497 - val_accuracy: 0.6330\n",
            "Epoch 16/50\n",
            "71/71 [==============================] - 67s 953ms/step - loss: 1.0108 - accuracy: 0.6713 - val_loss: 0.9546 - val_accuracy: 0.6974\n",
            "Epoch 17/50\n",
            "71/71 [==============================] - 67s 954ms/step - loss: 0.9733 - accuracy: 0.6739 - val_loss: 1.0366 - val_accuracy: 0.6652\n",
            "Epoch 18/50\n",
            "71/71 [==============================] - 68s 967ms/step - loss: 0.9619 - accuracy: 0.6739 - val_loss: 0.9135 - val_accuracy: 0.7124\n",
            "Epoch 19/50\n",
            "71/71 [==============================] - 68s 955ms/step - loss: 0.9072 - accuracy: 0.6957 - val_loss: 0.9065 - val_accuracy: 0.7082\n",
            "Epoch 20/50\n",
            "71/71 [==============================] - 68s 955ms/step - loss: 0.8786 - accuracy: 0.7023 - val_loss: 0.9464 - val_accuracy: 0.6888\n",
            "Epoch 21/50\n",
            "71/71 [==============================] - 68s 953ms/step - loss: 0.8704 - accuracy: 0.7063 - val_loss: 2.5175 - val_accuracy: 0.4549\n",
            "Epoch 22/50\n",
            "71/71 [==============================] - 68s 961ms/step - loss: 0.8431 - accuracy: 0.7161 - val_loss: 0.9561 - val_accuracy: 0.6588\n",
            "Epoch 23/50\n",
            "71/71 [==============================] - 68s 958ms/step - loss: 0.8486 - accuracy: 0.7152 - val_loss: 1.2275 - val_accuracy: 0.6159\n",
            "Epoch 24/50\n",
            "71/71 [==============================] - 67s 942ms/step - loss: 0.8327 - accuracy: 0.7130 - val_loss: 1.3261 - val_accuracy: 0.5923\n",
            "Epoch 25/50\n",
            "71/71 [==============================] - 67s 939ms/step - loss: 0.8210 - accuracy: 0.7285 - val_loss: 0.9438 - val_accuracy: 0.7060\n",
            "Epoch 26/50\n",
            "71/71 [==============================] - 67s 950ms/step - loss: 0.7998 - accuracy: 0.7356 - val_loss: 0.8651 - val_accuracy: 0.7060\n",
            "Epoch 27/50\n",
            "71/71 [==============================] - 68s 963ms/step - loss: 0.7719 - accuracy: 0.7427 - val_loss: 0.9128 - val_accuracy: 0.7339\n",
            "Epoch 28/50\n",
            "71/71 [==============================] - 67s 948ms/step - loss: 0.7579 - accuracy: 0.7595 - val_loss: 1.5929 - val_accuracy: 0.5773\n",
            "Epoch 29/50\n",
            "71/71 [==============================] - 67s 952ms/step - loss: 0.7279 - accuracy: 0.7684 - val_loss: 1.0672 - val_accuracy: 0.6953\n",
            "Epoch 30/50\n",
            "71/71 [==============================] - 67s 951ms/step - loss: 0.7795 - accuracy: 0.7462 - val_loss: 1.0176 - val_accuracy: 0.6953\n",
            "Epoch 31/50\n",
            "71/71 [==============================] - 68s 960ms/step - loss: 0.7106 - accuracy: 0.7626 - val_loss: 1.2146 - val_accuracy: 0.6395\n",
            "Epoch 32/50\n",
            "71/71 [==============================] - 68s 956ms/step - loss: 0.7438 - accuracy: 0.7560 - val_loss: 0.8313 - val_accuracy: 0.7361\n",
            "Epoch 33/50\n",
            "71/71 [==============================] - 67s 949ms/step - loss: 0.6877 - accuracy: 0.7795 - val_loss: 1.0282 - val_accuracy: 0.7146\n",
            "Epoch 34/50\n",
            "71/71 [==============================] - 68s 958ms/step - loss: 0.7185 - accuracy: 0.7569 - val_loss: 0.9222 - val_accuracy: 0.7489\n",
            "Epoch 35/50\n",
            "71/71 [==============================] - 69s 971ms/step - loss: 0.7171 - accuracy: 0.7560 - val_loss: 0.8041 - val_accuracy: 0.7747\n",
            "Epoch 36/50\n",
            "71/71 [==============================] - 68s 959ms/step - loss: 0.7400 - accuracy: 0.7675 - val_loss: 0.9767 - val_accuracy: 0.6845\n",
            "Epoch 37/50\n",
            "71/71 [==============================] - 68s 963ms/step - loss: 0.7140 - accuracy: 0.7671 - val_loss: 1.2786 - val_accuracy: 0.6438\n",
            "Epoch 38/50\n",
            "71/71 [==============================] - 68s 946ms/step - loss: 0.6733 - accuracy: 0.7742 - val_loss: 0.8086 - val_accuracy: 0.7725\n",
            "Epoch 39/50\n",
            "71/71 [==============================] - 69s 963ms/step - loss: 0.7073 - accuracy: 0.7657 - val_loss: 1.2858 - val_accuracy: 0.6738\n",
            "Epoch 40/50\n",
            "71/71 [==============================] - 68s 960ms/step - loss: 0.6693 - accuracy: 0.7817 - val_loss: 1.0352 - val_accuracy: 0.7146\n",
            "Epoch 41/50\n",
            "71/71 [==============================] - 68s 954ms/step - loss: 0.6625 - accuracy: 0.7875 - val_loss: 1.2154 - val_accuracy: 0.6373\n",
            "Epoch 42/50\n",
            "71/71 [==============================] - 68s 962ms/step - loss: 0.6352 - accuracy: 0.7972 - val_loss: 1.1659 - val_accuracy: 0.6459\n",
            "Epoch 43/50\n",
            "71/71 [==============================] - 68s 955ms/step - loss: 0.7114 - accuracy: 0.7826 - val_loss: 0.7339 - val_accuracy: 0.7661\n",
            "Epoch 44/50\n",
            "71/71 [==============================] - 67s 951ms/step - loss: 0.6527 - accuracy: 0.7937 - val_loss: 1.0207 - val_accuracy: 0.7339\n",
            "Epoch 45/50\n",
            "71/71 [==============================] - 68s 963ms/step - loss: 0.6856 - accuracy: 0.7875 - val_loss: 0.9438 - val_accuracy: 0.7532\n",
            "Epoch 46/50\n",
            "71/71 [==============================] - 68s 962ms/step - loss: 0.6178 - accuracy: 0.7950 - val_loss: 0.9584 - val_accuracy: 0.7232\n",
            "Epoch 47/50\n",
            "71/71 [==============================] - 69s 970ms/step - loss: 0.6293 - accuracy: 0.8008 - val_loss: 1.3960 - val_accuracy: 0.7146\n",
            "Epoch 48/50\n",
            "71/71 [==============================] - 68s 961ms/step - loss: 0.6843 - accuracy: 0.7808 - val_loss: 0.9490 - val_accuracy: 0.7639\n",
            "Epoch 49/50\n",
            "71/71 [==============================] - 67s 947ms/step - loss: 0.6766 - accuracy: 0.7751 - val_loss: 0.9272 - val_accuracy: 0.7682\n",
            "Epoch 50/50\n",
            "71/71 [==============================] - 67s 942ms/step - loss: 0.7447 - accuracy: 0.7862 - val_loss: 1.0325 - val_accuracy: 0.7296\n"
          ]
        }
      ]
    },
    {
      "cell_type": "markdown",
      "source": [
        "# Plotting Accuracy and Loss"
      ],
      "metadata": {
        "id": "BKOKLyA3eTLU"
      }
    },
    {
      "cell_type": "code",
      "source": [
        "acc = history.history['accuracy']\n",
        "val_acc = history.history['val_accuracy']\n",
        "loss = history.history['loss']\n",
        "val_loss = history.history['val_loss']\n",
        "epochs=range(len(acc))\n",
        "\n",
        "# Accuracy\n",
        "plt.plot(epochs, acc, 'r', label=\"Training Accuracy\")\n",
        "plt.plot(epochs, val_acc, 'b', label=\"Validation Accuracy\")\n",
        "plt.title('Training and Validation Accuracy')\n",
        "plt.legend()\n",
        "plt.figure()\n",
        "\n",
        "# Loss\n",
        "plt.plot(epochs, loss, 'r', label=\"Training Loss\")\n",
        "plt.plot(epochs, val_loss, 'b', label=\"Validation Loss\")\n",
        "plt.title('Training and Validation Loss')\n",
        "plt.legend()\n",
        "\n",
        "plt.show()"
      ],
      "metadata": {
        "colab": {
          "base_uri": "https://localhost:8080/",
          "height": 545
        },
        "id": "Y_FBISNUeLCc",
        "outputId": "8ef128d1-d0f3-4535-9732-05784bfc4133"
      },
      "execution_count": 16,
      "outputs": [
        {
          "output_type": "display_data",
          "data": {
            "text/plain": [
              "<Figure size 432x288 with 1 Axes>"
            ],
            "image/png": "[encoded data removed]"
          },
          "metadata": {
            "needs_background": "light"
          }
        },
        {
          "output_type": "display_data",
          "data": {
            "text/plain": [
              "<Figure size 432x288 with 1 Axes>"
            ],
            "image/png": "[encoded data removed]"
          },
          "metadata": {
            "needs_background": "light"
          }
        }
      ]
    },
    {
      "cell_type": "markdown",
      "source": [
        "# Export Model"
      ],
      "metadata": {
        "id": "S2XB-avLiG1T"
      }
    },
    {
      "cell_type": "code",
      "source": [
        "# Save model to h5 format\n",
        "model.save('sidewalk_obj_v2.h5')"
      ],
      "metadata": {
        "id": "Mb_y-78MoRf3"
      },
      "execution_count": 17,
      "outputs": []
    },
    {
      "cell_type": "code",
      "source": [
        "export_dir = 'saved_model/2'\n",
        "tf.saved_model.save(model, export_dir=export_dir)\n"
      ],
      "metadata": {
        "colab": {
          "base_uri": "https://localhost:8080/"
        },
        "id": "KkSYDiKOiGci",
        "outputId": "34d4cab0-fda6-43da-aefb-51ce64f527d9"
      },
      "execution_count": 18,
      "outputs": [
        {
          "output_type": "stream",
          "name": "stdout",
          "text": [
            "INFO:tensorflow:Assets written to: saved_model/2/assets\n"
          ]
        }
      ]
    },
    {
      "cell_type": "code",
      "source": [
        "# Convert model\n",
        "converter = tf.lite.TFLiteConverter.from_saved_model(export_dir)\n",
        "converter.optimizations = [tf.lite.Optimize.OPTIMIZE_FOR_SIZE]\n",
        "tflite_model = converter.convert()\n",
        "\n",
        "# Write TFLite model\n",
        "tflite_model_file = \"sidewalk_obj_v2.tflite\"\n",
        "\n",
        "with open(tflite_model_file, \"wb\") as f:\n",
        "    f.write(tflite_model)\n",
        "\n",
        "with open('sidewalk_obj_v2.txt', 'w') as f:\n",
        "    f.write('\\n'.join(class_names))"
      ],
      "metadata": {
        "colab": {
          "base_uri": "https://localhost:8080/"
        },
        "id": "OkfXDo4plcZV",
        "outputId": "1930d64c-5456-441d-9e7d-99471e6476d5"
      },
      "execution_count": 19,
      "outputs": [
        {
          "output_type": "stream",
          "name": "stderr",
          "text": [
            "WARNING:absl:Optimization option OPTIMIZE_FOR_SIZE is deprecated, please use optimizations=[Optimize.DEFAULT] instead.\n",
            "WARNING:absl:Optimization option OPTIMIZE_FOR_SIZE is deprecated, please use optimizations=[Optimize.DEFAULT] instead.\n",
            "WARNING:absl:Optimization option OPTIMIZE_FOR_SIZE is deprecated, please use optimizations=[Optimize.DEFAULT] instead.\n",
            "WARNING:absl:Buffer deduplication procedure will be skipped when flatbuffer library is not properly loaded\n"
          ]
        }
      ]
    },
    {
      "cell_type": "code",
      "source": [
        "from google.colab import files\n",
        "try:\n",
        "    files.download('sidewalk_obj_v2.tflite')\n",
        "    files.download('sidewalk_obj_v2.h5')\n",
        "    files.download('sidewalk_obj_v2.txt')\n",
        "except:\n",
        "    pass"
      ],
      "metadata": {
        "colab": {
          "base_uri": "https://localhost:8080/",
          "height": 17
        },
        "id": "qWkoVL2bnQt-",
        "outputId": "07a89153-4eca-4cfb-a331-3591319dab63"
      },
      "execution_count": 20,
      "outputs": [
        {
          "output_type": "display_data",
          "data": {
            "text/plain": [
              "<IPython.core.display.Javascript object>"
            ],
            "application/javascript": [
              "\n",
              "    async function download(id, filename, size) {\n",
              "      if (!google.colab.kernel.accessAllowed) {\n",
              "        return;\n",
              "      }\n",
              "      const div = document.createElement('div');\n",
              "      const label = document.createElement('label');\n",
              "      label.textContent = `Downloading \"${filename}\": `;\n",
              "      div.appendChild(label);\n",
              "      const progress = document.createElement('progress');\n",
              "      progress.max = size;\n",
              "      div.appendChild(progress);\n",
              "      document.body.appendChild(div);\n",
              "\n",
              "      const buffers = [];\n",
              "      let downloaded = 0;\n",
              "\n",
              "      const channel = await google.colab.kernel.comms.open(id);\n",
              "      // Send a message to notify the kernel that we're ready.\n",
              "      channel.send({})\n",
              "\n",
              "      for await (const message of channel.messages) {\n",
              "        // Send a message to notify the kernel that we're ready.\n",
              "        channel.send({})\n",
              "        if (message.buffers) {\n",
              "          for (const buffer of message.buffers) {\n",
              "            buffers.push(buffer);\n",
              "            downloaded += buffer.byteLength;\n",
              "            progress.value = downloaded;\n",
              "          }\n",
              "        }\n",
              "      }\n",
              "      const blob = new Blob(buffers, {type: 'application/binary'});\n",
              "      const a = document.createElement('a');\n",
              "      a.href = window.URL.createObjectURL(blob);\n",
              "      a.download = filename;\n",
              "      div.appendChild(a);\n",
              "      a.click();\n",
              "      div.remove();\n",
              "    }\n",
              "  "
            ]
          },
          "metadata": {}
        },
        {
          "output_type": "display_data",
          "data": {
            "text/plain": [
              "<IPython.core.display.Javascript object>"
            ],
            "application/javascript": [
              "download(\"download_d6749380-bd02-4d92-a558-4919d62eb287\", \"sidewalk_obj_v2.tflite\", 2375392)"
            ]
          },
          "metadata": {}
        },
        {
          "output_type": "display_data",
          "data": {
            "text/plain": [
              "<IPython.core.display.Javascript object>"
            ],
            "application/javascript": [
              "\n",
              "    async function download(id, filename, size) {\n",
              "      if (!google.colab.kernel.accessAllowed) {\n",
              "        return;\n",
              "      }\n",
              "      const div = document.createElement('div');\n",
              "      const label = document.createElement('label');\n",
              "      label.textContent = `Downloading \"${filename}\": `;\n",
              "      div.appendChild(label);\n",
              "      const progress = document.createElement('progress');\n",
              "      progress.max = size;\n",
              "      div.appendChild(progress);\n",
              "      document.body.appendChild(div);\n",
              "\n",
              "      const buffers = [];\n",
              "      let downloaded = 0;\n",
              "\n",
              "      const channel = await google.colab.kernel.comms.open(id);\n",
              "      // Send a message to notify the kernel that we're ready.\n",
              "      channel.send({})\n",
              "\n",
              "      for await (const message of channel.messages) {\n",
              "        // Send a message to notify the kernel that we're ready.\n",
              "        channel.send({})\n",
              "        if (message.buffers) {\n",
              "          for (const buffer of message.buffers) {\n",
              "            buffers.push(buffer);\n",
              "            downloaded += buffer.byteLength;\n",
              "            progress.value = downloaded;\n",
              "          }\n",
              "        }\n",
              "      }\n",
              "      const blob = new Blob(buffers, {type: 'application/binary'});\n",
              "      const a = document.createElement('a');\n",
              "      a.href = window.URL.createObjectURL(blob);\n",
              "      a.download = filename;\n",
              "      div.appendChild(a);\n",
              "      a.click();\n",
              "      div.remove();\n",
              "    }\n",
              "  "
            ]
          },
          "metadata": {}
        },
        {
          "output_type": "display_data",
          "data": {
            "text/plain": [
              "<IPython.core.display.Javascript object>"
            ],
            "application/javascript": [
              "download(\"download_5907c30f-1c67-48dc-b8e7-791bbe98a92a\", \"sidewalk_obj_v2.h5\", 18945640)"
            ]
          },
          "metadata": {}
        },
        {
          "output_type": "display_data",
          "data": {
            "text/plain": [
              "<IPython.core.display.Javascript object>"
            ],
            "application/javascript": [
              "\n",
              "    async function download(id, filename, size) {\n",
              "      if (!google.colab.kernel.accessAllowed) {\n",
              "        return;\n",
              "      }\n",
              "      const div = document.createElement('div');\n",
              "      const label = document.createElement('label');\n",
              "      label.textContent = `Downloading \"${filename}\": `;\n",
              "      div.appendChild(label);\n",
              "      const progress = document.createElement('progress');\n",
              "      progress.max = size;\n",
              "      div.appendChild(progress);\n",
              "      document.body.appendChild(div);\n",
              "\n",
              "      const buffers = [];\n",
              "      let downloaded = 0;\n",
              "\n",
              "      const channel = await google.colab.kernel.comms.open(id);\n",
              "      // Send a message to notify the kernel that we're ready.\n",
              "      channel.send({})\n",
              "\n",
              "      for await (const message of channel.messages) {\n",
              "        // Send a message to notify the kernel that we're ready.\n",
              "        channel.send({})\n",
              "        if (message.buffers) {\n",
              "          for (const buffer of message.buffers) {\n",
              "            buffers.push(buffer);\n",
              "            downloaded += buffer.byteLength;\n",
              "            progress.value = downloaded;\n",
              "          }\n",
              "        }\n",
              "      }\n",
              "      const blob = new Blob(buffers, {type: 'application/binary'});\n",
              "      const a = document.createElement('a');\n",
              "      a.href = window.URL.createObjectURL(blob);\n",
              "      a.download = filename;\n",
              "      div.appendChild(a);\n",
              "      a.click();\n",
              "      div.remove();\n",
              "    }\n",
              "  "
            ]
          },
          "metadata": {}
        },
        {
          "output_type": "display_data",
          "data": {
            "text/plain": [
              "<IPython.core.display.Javascript object>"
            ],
            "application/javascript": [
              "download(\"download_13a8b350-db70-43df-b0b6-e19411862cb5\", \"sidewalk_obj_v2.txt\", 65)"
            ]
          },
          "metadata": {}
        }
      ]
    }
  ]
}